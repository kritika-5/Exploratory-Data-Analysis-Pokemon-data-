
    "Title: Exploratory data analysis on Pokemon data\n",
    "\n",
    "Skills/Competencies to be acquired:\n",
    "1. ANALYSE THE DATA AND UNDERSTAND ITS CONTENTS.\n",
    "2. FOR GIVEN DATASET - FIND THE INFO REGARDING THE VARIOUS VARIABLES AND ATTRIBUTES OF DATA(ROWS+COLUMNS), CREATE FREQUENCY DISTRIBUTION CURVES FOR THE DATA TO UNDERSTAND THE BEHAVIOUR OF EACH VARIABLE, ANALYSE CENTRAL TENDENCY IN ORDER TO DETERMINE THE SYMMETRY AND SKEWNESS OF THE DATA, CREATE DENSITY PLOTS FOR THE DATA TO UNDERSTAND THE DISTRIBUTION OF THE VARIABLES OVER THE DENSITY.\n",
    "4. UNDERSTANDING OF THE CONCEPTS OF STATISTICS.\n",
    "5. UNDERSTANDING OF THE NATURE AND CURVES SO THAT INTERPRETATION OF THE CURVES FOR THIS DATASET COULD BE POSSIBLE.\n",
    "\n",
    "\n",
    "Duration of activity: approximately 9 days\n",
    "\n",
    "1. What is the purpose of this activity?\n",
    "-> The purpose of this activity is to make us understand - the analysis of data, why it is required?, what information we can bring by doing that?, how we can simply large and clumsy data sets by using clear understanding of the concepts and how graphs play an important role in the analysis.\n",
    "\n",
    "\n",
    "2. Steps performed in this activity.\n",
    "*reading the data file(.csv file)\n",
    "\n",
    "*obtaing information of the data\n",
    "\n",
    "*performing categorical groupby  function and thereby plotting frequency distribution  curve for each feature.\n",
    "\n",
    "*performing operations to obtain central tendency of the data and writing interpretation for each feature on the basis of skewness of each of them.\n",
    "\n",
    "*finding the spread of the data by all ways (range, interquartile range and variance) and writing interpretation for them.\n",
    "\n",
    "*obatining kurtosis for each feature and concluding whether it is lapokurtic ,platikurtic or mesokurtic. Also interpreting the skewness(in terms of symmetry of features) for each variable.\n",
    "\n",
    "3. What resources / materials / equipment / tools did you use for this activity?\n",
    "*class notes & class recordings.\n",
    "\n",
    "*I also took help from one of my teammate(Project team) Varsha Pawar as she has some wonderful knowledge of statistics concepts which helped me clear some very basic doubts like why is this curve has such bend. \n",
    "\n",
    "4. What skills did you acquire?\n",
    "*Developing logic\n",
    "\n",
    "*debugging my errors on my own while executing the code with the help of my understanding of the concepts and class notes .\n",
    "\n",
    "*understanding of the depth of the concept of statistics and what is the need of each operation I performed in the assignment.\n",
    "\n",
    "5. Time taken to complete the activity?\n",
    "\n",
    "*overall it took me 9 hours to complete this activity. But not on a single sitting .I did it in portions on consecutive 3 days.\n"
   ]
  },
  {
   "cell_type": "markdown",
   "id": "2fd19d63",
   "metadata": {},
   "source": [
    "# 1. Basic Information from the dataset and it's interpretation"
   ]
  },
  {
   "cell_type": "code",
   "execution_count": 1,
   "id": "48437413",
   "metadata": {},
   "outputs": [],
   "source": [
    "#import modules that will be needed\n",
    "import pandas as pd\n",
    "import matplotlib.pyplot as plt\n",
    "import numpy as np"
   ]
  },
  {
   "cell_type": "code",
   "execution_count": 2,
   "id": "40f807ef",
   "metadata": {},
   "outputs": [],
   "source": [
    "#read in data from csv file\n",
    "df=pd.read_csv(r\"G:\\Kritika Tripathi_FST_ML-13_Documents\\datasets\\Pokemon.csv\")"
   ]
  },
  {
   "cell_type": "code",
   "execution_count": 3,
   "id": "ba8de95c",
   "metadata": {},
   "outputs": [
    {
     "data": {
      "text/html": [
       "<div>\n",
       "<style scoped>\n",
       "    .dataframe tbody tr th:only-of-type {\n",
       "        vertical-align: middle;\n",
       "    }\n",
       "\n",
       "    .dataframe tbody tr th {\n",
       "        vertical-align: top;\n",
       "    }\n",
       "\n",
       "    .dataframe thead th {\n",
       "        text-align: right;\n",
       "    }\n",
       "</style>\n",
       "<table border=\"1\" class=\"dataframe\">\n",
       "  <thead>\n",
       "    <tr style=\"text-align: right;\">\n",
       "      <th></th>\n",
       "      <th>#</th>\n",
       "      <th>Name</th>\n",
       "      <th>Type 1</th>\n",
       "      <th>Type 2</th>\n",
       "      <th>Total</th>\n",
       "      <th>HP</th>\n",
       "      <th>Attack</th>\n",
       "      <th>Defense</th>\n",
       "      <th>Sp. Atk</th>\n",
       "      <th>Sp. Def</th>\n",
       "      <th>Speed</th>\n",
       "      <th>Generation</th>\n",
       "      <th>Legendary</th>\n",
       "    </tr>\n",
       "  </thead>\n",
       "  <tbody>\n",
       "    <tr>\n",
       "      <th>0</th>\n",
       "      <td>1</td>\n",
       "      <td>Bulbasaur</td>\n",
       "      <td>Grass</td>\n",
       "      <td>Poison</td>\n",
       "      <td>318</td>\n",
       "      <td>45</td>\n",
       "      <td>49</td>\n",
       "      <td>49</td>\n",
       "      <td>65</td>\n",
       "      <td>65</td>\n",
       "      <td>45</td>\n",
       "      <td>1</td>\n",
       "      <td>False</td>\n",
       "    </tr>\n",
       "    <tr>\n",
       "      <th>1</th>\n",
       "      <td>2</td>\n",
       "      <td>Ivysaur</td>\n",
       "      <td>Grass</td>\n",
       "      <td>Poison</td>\n",
       "      <td>405</td>\n",
       "      <td>60</td>\n",
       "      <td>62</td>\n",
       "      <td>63</td>\n",
       "      <td>80</td>\n",
       "      <td>80</td>\n",
       "      <td>60</td>\n",
       "      <td>1</td>\n",
       "      <td>False</td>\n",
       "    </tr>\n",
       "    <tr>\n",
       "      <th>2</th>\n",
       "      <td>3</td>\n",
       "      <td>Venusaur</td>\n",
       "      <td>Grass</td>\n",
       "      <td>Poison</td>\n",
       "      <td>525</td>\n",
       "      <td>80</td>\n",
       "      <td>82</td>\n",
       "      <td>83</td>\n",
       "      <td>100</td>\n",
       "      <td>100</td>\n",
       "      <td>80</td>\n",
       "      <td>1</td>\n",
       "      <td>False</td>\n",
       "    </tr>\n",
       "    <tr>\n",
       "      <th>3</th>\n",
       "      <td>3</td>\n",
       "      <td>VenusaurMega Venusaur</td>\n",
       "      <td>Grass</td>\n",
       "      <td>Poison</td>\n",
       "      <td>625</td>\n",
       "      <td>80</td>\n",
       "      <td>100</td>\n",
       "      <td>123</td>\n",
       "      <td>122</td>\n",
       "      <td>120</td>\n",
       "      <td>80</td>\n",
       "      <td>1</td>\n",
       "      <td>False</td>\n",
       "    </tr>\n",
       "    <tr>\n",
       "      <th>4</th>\n",
       "      <td>4</td>\n",
       "      <td>Charmander</td>\n",
       "      <td>Fire</td>\n",
       "      <td>NaN</td>\n",
       "      <td>309</td>\n",
       "      <td>39</td>\n",
       "      <td>52</td>\n",
       "      <td>43</td>\n",
       "      <td>60</td>\n",
       "      <td>50</td>\n",
       "      <td>65</td>\n",
       "      <td>1</td>\n",
       "      <td>False</td>\n",
       "    </tr>\n",
       "    <tr>\n",
       "      <th>...</th>\n",
       "      <td>...</td>\n",
       "      <td>...</td>\n",
       "      <td>...</td>\n",
       "      <td>...</td>\n",
       "      <td>...</td>\n",
       "      <td>...</td>\n",
       "      <td>...</td>\n",
       "      <td>...</td>\n",
       "      <td>...</td>\n",
       "      <td>...</td>\n",
       "      <td>...</td>\n",
       "      <td>...</td>\n",
       "      <td>...</td>\n",
       "    </tr>\n",
       "    <tr>\n",
       "      <th>795</th>\n",
       "      <td>719</td>\n",
       "      <td>Diancie</td>\n",
       "      <td>Rock</td>\n",
       "      <td>Fairy</td>\n",
       "      <td>600</td>\n",
       "      <td>50</td>\n",
       "      <td>100</td>\n",
       "      <td>150</td>\n",
       "      <td>100</td>\n",
       "      <td>150</td>\n",
       "      <td>50</td>\n",
       "      <td>6</td>\n",
       "      <td>True</td>\n",
       "    </tr>\n",
       "    <tr>\n",
       "      <th>796</th>\n",
       "      <td>719</td>\n",
       "      <td>DiancieMega Diancie</td>\n",
       "      <td>Rock</td>\n",
       "      <td>Fairy</td>\n",
       "      <td>700</td>\n",
       "      <td>50</td>\n",
       "      <td>160</td>\n",
       "      <td>110</td>\n",
       "      <td>160</td>\n",
       "      <td>110</td>\n",
       "      <td>110</td>\n",
       "      <td>6</td>\n",
       "      <td>True</td>\n",
       "    </tr>\n",
       "    <tr>\n",
       "      <th>797</th>\n",
       "      <td>720</td>\n",
       "      <td>HoopaHoopa Confined</td>\n",
       "      <td>Psychic</td>\n",
       "      <td>Ghost</td>\n",
       "      <td>600</td>\n",
       "      <td>80</td>\n",
       "      <td>110</td>\n",
       "      <td>60</td>\n",
       "      <td>150</td>\n",
       "      <td>130</td>\n",
       "      <td>70</td>\n",
       "      <td>6</td>\n",
       "      <td>True</td>\n",
       "    </tr>\n",
       "    <tr>\n",
       "      <th>798</th>\n",
       "      <td>720</td>\n",
       "      <td>HoopaHoopa Unbound</td>\n",
       "      <td>Psychic</td>\n",
       "      <td>Dark</td>\n",
       "      <td>680</td>\n",
       "      <td>80</td>\n",
       "      <td>160</td>\n",
       "      <td>60</td>\n",
       "      <td>170</td>\n",
       "      <td>130</td>\n",
       "      <td>80</td>\n",
       "      <td>6</td>\n",
       "      <td>True</td>\n",
       "    </tr>\n",
       "    <tr>\n",
       "      <th>799</th>\n",
       "      <td>721</td>\n",
       "      <td>Volcanion</td>\n",
       "      <td>Fire</td>\n",
       "      <td>Water</td>\n",
       "      <td>600</td>\n",
       "      <td>80</td>\n",
       "      <td>110</td>\n",
       "      <td>120</td>\n",
       "      <td>130</td>\n",
       "      <td>90</td>\n",
       "      <td>70</td>\n",
       "      <td>6</td>\n",
       "      <td>True</td>\n",
       "    </tr>\n",
       "  </tbody>\n",
       "</table>\n",
       "<p>800 rows × 13 columns</p>\n",
       "</div>"
      ],
      "text/plain": [
       "       #                   Name   Type 1  Type 2  Total  HP  Attack  Defense  \\\n",
       "0      1              Bulbasaur    Grass  Poison    318  45      49       49   \n",
       "1      2                Ivysaur    Grass  Poison    405  60      62       63   \n",
       "2      3               Venusaur    Grass  Poison    525  80      82       83   \n",
       "3      3  VenusaurMega Venusaur    Grass  Poison    625  80     100      123   \n",
       "4      4             Charmander     Fire     NaN    309  39      52       43   \n",
       "..   ...                    ...      ...     ...    ...  ..     ...      ...   \n",
       "795  719                Diancie     Rock   Fairy    600  50     100      150   \n",
       "796  719    DiancieMega Diancie     Rock   Fairy    700  50     160      110   \n",
       "797  720    HoopaHoopa Confined  Psychic   Ghost    600  80     110       60   \n",
       "798  720     HoopaHoopa Unbound  Psychic    Dark    680  80     160       60   \n",
       "799  721              Volcanion     Fire   Water    600  80     110      120   \n",
       "\n",
       "     Sp. Atk  Sp. Def  Speed  Generation  Legendary  \n",
       "0         65       65     45           1      False  \n",
       "1         80       80     60           1      False  \n",
       "2        100      100     80           1      False  \n",
       "3        122      120     80           1      False  \n",
       "4         60       50     65           1      False  \n",
       "..       ...      ...    ...         ...        ...  \n",
       "795      100      150     50           6       True  \n",
       "796      160      110    110           6       True  \n",
       "797      150      130     70           6       True  \n",
       "798      170      130     80           6       True  \n",
       "799      130       90     70           6       True  \n",
       "\n",
       "[800 rows x 13 columns]"
      ]
     },
     "execution_count": 3,
     "metadata": {},
     "output_type": "execute_result"
    }
   ],
   "source": [
    "df  ####reading the dataset(POKEMON DATA)"
   ]
  },
  {
   "cell_type": "code",
   "execution_count": 33,
   "id": "fe9d877d",
   "metadata": {},
   "outputs": [
    {
     "data": {
      "text/plain": [
       "Index(['#', 'Name', 'Type 1', 'Type 2', 'Total', 'HP', 'Attack', 'Defense',\n",
       "       'Sp. Atk', 'Sp. Def', 'Speed', 'Generation', 'Legendary'],\n",
       "      dtype='object')"
      ]
     },
     "execution_count": 33,
     "metadata": {},
     "output_type": "execute_result"
    }
   ],
   "source": [
    "df.columns  ### in order to check the detailed information available at the column level of the dataset"
   ]
  },
  {
   "cell_type": "code",
   "execution_count": 34,
   "id": "e981f03b",
   "metadata": {},
   "outputs": [
    {
     "data": {
      "text/plain": [
       "721"
      ]
     },
     "execution_count": 34,
     "metadata": {},
     "output_type": "execute_result"
    }
   ],
   "source": [
    "df['#'].nunique()  ###checking unique pokemons wrt id"
   ]
  },
  {
   "cell_type": "markdown",
   "id": "6345314d",
   "metadata": {},
   "source": [
    "#\n",
    "This data set includes 721 Pokemon, including their number, name, first and second type, and basic stats: HP, Attack, Defense, Special Attack, Special Defense, and Speed."
   ]
  },
  {
   "cell_type": "code",
   "execution_count": 35,
   "id": "7dd461e5",
   "metadata": {},
   "outputs": [
    {
     "data": {
      "text/html": [
       "<div>\n",
       "<style scoped>\n",
       "    .dataframe tbody tr th:only-of-type {\n",
       "        vertical-align: middle;\n",
       "    }\n",
       "\n",
       "    .dataframe tbody tr th {\n",
       "        vertical-align: top;\n",
       "    }\n",
       "\n",
       "    .dataframe thead th {\n",
       "        text-align: right;\n",
       "    }\n",
       "</style>\n",
       "<table border=\"1\" class=\"dataframe\">\n",
       "  <thead>\n",
       "    <tr style=\"text-align: right;\">\n",
       "      <th></th>\n",
       "      <th>#</th>\n",
       "      <th>Name</th>\n",
       "      <th>Type 1</th>\n",
       "      <th>Type 2</th>\n",
       "      <th>Total</th>\n",
       "      <th>HP</th>\n",
       "      <th>Attack</th>\n",
       "      <th>Defense</th>\n",
       "      <th>Sp. Atk</th>\n",
       "      <th>Sp. Def</th>\n",
       "      <th>Speed</th>\n",
       "      <th>Generation</th>\n",
       "      <th>Legendary</th>\n",
       "    </tr>\n",
       "  </thead>\n",
       "  <tbody>\n",
       "    <tr>\n",
       "      <th>0</th>\n",
       "      <td>1</td>\n",
       "      <td>Bulbasaur</td>\n",
       "      <td>Grass</td>\n",
       "      <td>Poison</td>\n",
       "      <td>318</td>\n",
       "      <td>45</td>\n",
       "      <td>49</td>\n",
       "      <td>49</td>\n",
       "      <td>65</td>\n",
       "      <td>65</td>\n",
       "      <td>45</td>\n",
       "      <td>1</td>\n",
       "      <td>False</td>\n",
       "    </tr>\n",
       "    <tr>\n",
       "      <th>1</th>\n",
       "      <td>2</td>\n",
       "      <td>Ivysaur</td>\n",
       "      <td>Grass</td>\n",
       "      <td>Poison</td>\n",
       "      <td>405</td>\n",
       "      <td>60</td>\n",
       "      <td>62</td>\n",
       "      <td>63</td>\n",
       "      <td>80</td>\n",
       "      <td>80</td>\n",
       "      <td>60</td>\n",
       "      <td>1</td>\n",
       "      <td>False</td>\n",
       "    </tr>\n",
       "    <tr>\n",
       "      <th>2</th>\n",
       "      <td>3</td>\n",
       "      <td>Venusaur</td>\n",
       "      <td>Grass</td>\n",
       "      <td>Poison</td>\n",
       "      <td>525</td>\n",
       "      <td>80</td>\n",
       "      <td>82</td>\n",
       "      <td>83</td>\n",
       "      <td>100</td>\n",
       "      <td>100</td>\n",
       "      <td>80</td>\n",
       "      <td>1</td>\n",
       "      <td>False</td>\n",
       "    </tr>\n",
       "    <tr>\n",
       "      <th>3</th>\n",
       "      <td>3</td>\n",
       "      <td>VenusaurMega Venusaur</td>\n",
       "      <td>Grass</td>\n",
       "      <td>Poison</td>\n",
       "      <td>625</td>\n",
       "      <td>80</td>\n",
       "      <td>100</td>\n",
       "      <td>123</td>\n",
       "      <td>122</td>\n",
       "      <td>120</td>\n",
       "      <td>80</td>\n",
       "      <td>1</td>\n",
       "      <td>False</td>\n",
       "    </tr>\n",
       "    <tr>\n",
       "      <th>4</th>\n",
       "      <td>4</td>\n",
       "      <td>Charmander</td>\n",
       "      <td>Fire</td>\n",
       "      <td>NaN</td>\n",
       "      <td>309</td>\n",
       "      <td>39</td>\n",
       "      <td>52</td>\n",
       "      <td>43</td>\n",
       "      <td>60</td>\n",
       "      <td>50</td>\n",
       "      <td>65</td>\n",
       "      <td>1</td>\n",
       "      <td>False</td>\n",
       "    </tr>\n",
       "  </tbody>\n",
       "</table>\n",
       "</div>"
      ],
      "text/plain": [
       "   #                   Name Type 1  Type 2  Total  HP  Attack  Defense  \\\n",
       "0  1              Bulbasaur  Grass  Poison    318  45      49       49   \n",
       "1  2                Ivysaur  Grass  Poison    405  60      62       63   \n",
       "2  3               Venusaur  Grass  Poison    525  80      82       83   \n",
       "3  3  VenusaurMega Venusaur  Grass  Poison    625  80     100      123   \n",
       "4  4             Charmander   Fire     NaN    309  39      52       43   \n",
       "\n",
       "   Sp. Atk  Sp. Def  Speed  Generation  Legendary  \n",
       "0       65       65     45           1      False  \n",
       "1       80       80     60           1      False  \n",
       "2      100      100     80           1      False  \n",
       "3      122      120     80           1      False  \n",
       "4       60       50     65           1      False  "
      ]
     },
     "execution_count": 35,
     "metadata": {},
     "output_type": "execute_result"
    }
   ],
   "source": [
    "df.head()  #### gives us a clear picture of first five elements of POKEMON DATA SET"
   ]
  },
  {
   "cell_type": "code",
   "execution_count": 8,
   "id": "df1c5a85",
   "metadata": {},
   "outputs": [
    {
     "data": {
      "text/plain": [
       "#              int64\n",
       "Name          object\n",
       "Type 1        object\n",
       "Type 2        object\n",
       "Total          int64\n",
       "HP             int64\n",
       "Attack         int64\n",
       "Defense        int64\n",
       "Sp. Atk        int64\n",
       "Sp. Def        int64\n",
       "Speed          int64\n",
       "Generation     int64\n",
       "Legendary       bool\n",
       "dtype: object"
      ]
     },
     "execution_count": 8,
     "metadata": {},
     "output_type": "execute_result"
    }
   ],
   "source": [
    "df.dtypes #Gives us a glimpse of what type of data we have on the dataset in case we wish to change something with the astype function"
   ]
  },
  {
   "cell_type": "code",
   "execution_count": 9,
   "id": "e2cdedd9",
   "metadata": {},
   "outputs": [
    {
     "name": "stdout",
     "output_type": "stream",
     "text": [
      "<class 'pandas.core.frame.DataFrame'>\n",
      "RangeIndex: 800 entries, 0 to 799\n",
      "Data columns (total 13 columns):\n",
      " #   Column      Non-Null Count  Dtype \n",
      "---  ------      --------------  ----- \n",
      " 0   #           800 non-null    int64 \n",
      " 1   Name        800 non-null    object\n",
      " 2   Type 1      800 non-null    object\n",
      " 3   Type 2      414 non-null    object\n",
      " 4   Total       800 non-null    int64 \n",
      " 5   HP          800 non-null    int64 \n",
      " 6   Attack      800 non-null    int64 \n",
      " 7   Defense     800 non-null    int64 \n",
      " 8   Sp. Atk     800 non-null    int64 \n",
      " 9   Sp. Def     800 non-null    int64 \n",
      " 10  Speed       800 non-null    int64 \n",
      " 11  Generation  800 non-null    int64 \n",
      " 12  Legendary   800 non-null    bool  \n",
      "dtypes: bool(1), int64(9), object(3)\n",
      "memory usage: 75.9+ KB\n"
     ]
    }
   ],
   "source": [
    "df.info()   # To know the Non-null count the datatypes, the index and the columns"
   ]
  },
  {
   "cell_type": "code",
   "execution_count": 10,
   "id": "df35bdc0",
   "metadata": {},
   "outputs": [
    {
     "data": {
      "text/html": [
       "<div>\n",
       "<style scoped>\n",
       "    .dataframe tbody tr th:only-of-type {\n",
       "        vertical-align: middle;\n",
       "    }\n",
       "\n",
       "    .dataframe tbody tr th {\n",
       "        vertical-align: top;\n",
       "    }\n",
       "\n",
       "    .dataframe thead th {\n",
       "        text-align: right;\n",
       "    }\n",
       "</style>\n",
       "<table border=\"1\" class=\"dataframe\">\n",
       "  <thead>\n",
       "    <tr style=\"text-align: right;\">\n",
       "      <th></th>\n",
       "      <th>#</th>\n",
       "      <th>Total</th>\n",
       "      <th>HP</th>\n",
       "      <th>Attack</th>\n",
       "      <th>Defense</th>\n",
       "      <th>Sp. Atk</th>\n",
       "      <th>Sp. Def</th>\n",
       "      <th>Speed</th>\n",
       "      <th>Generation</th>\n",
       "    </tr>\n",
       "  </thead>\n",
       "  <tbody>\n",
       "    <tr>\n",
       "      <th>count</th>\n",
       "      <td>800.000000</td>\n",
       "      <td>800.00000</td>\n",
       "      <td>800.000000</td>\n",
       "      <td>800.000000</td>\n",
       "      <td>800.000000</td>\n",
       "      <td>800.000000</td>\n",
       "      <td>800.000000</td>\n",
       "      <td>800.000000</td>\n",
       "      <td>800.00000</td>\n",
       "    </tr>\n",
       "    <tr>\n",
       "      <th>mean</th>\n",
       "      <td>362.813750</td>\n",
       "      <td>435.10250</td>\n",
       "      <td>69.258750</td>\n",
       "      <td>79.001250</td>\n",
       "      <td>73.842500</td>\n",
       "      <td>72.820000</td>\n",
       "      <td>71.902500</td>\n",
       "      <td>68.277500</td>\n",
       "      <td>3.32375</td>\n",
       "    </tr>\n",
       "    <tr>\n",
       "      <th>std</th>\n",
       "      <td>208.343798</td>\n",
       "      <td>119.96304</td>\n",
       "      <td>25.534669</td>\n",
       "      <td>32.457366</td>\n",
       "      <td>31.183501</td>\n",
       "      <td>32.722294</td>\n",
       "      <td>27.828916</td>\n",
       "      <td>29.060474</td>\n",
       "      <td>1.66129</td>\n",
       "    </tr>\n",
       "    <tr>\n",
       "      <th>min</th>\n",
       "      <td>1.000000</td>\n",
       "      <td>180.00000</td>\n",
       "      <td>1.000000</td>\n",
       "      <td>5.000000</td>\n",
       "      <td>5.000000</td>\n",
       "      <td>10.000000</td>\n",
       "      <td>20.000000</td>\n",
       "      <td>5.000000</td>\n",
       "      <td>1.00000</td>\n",
       "    </tr>\n",
       "    <tr>\n",
       "      <th>25%</th>\n",
       "      <td>184.750000</td>\n",
       "      <td>330.00000</td>\n",
       "      <td>50.000000</td>\n",
       "      <td>55.000000</td>\n",
       "      <td>50.000000</td>\n",
       "      <td>49.750000</td>\n",
       "      <td>50.000000</td>\n",
       "      <td>45.000000</td>\n",
       "      <td>2.00000</td>\n",
       "    </tr>\n",
       "    <tr>\n",
       "      <th>50%</th>\n",
       "      <td>364.500000</td>\n",
       "      <td>450.00000</td>\n",
       "      <td>65.000000</td>\n",
       "      <td>75.000000</td>\n",
       "      <td>70.000000</td>\n",
       "      <td>65.000000</td>\n",
       "      <td>70.000000</td>\n",
       "      <td>65.000000</td>\n",
       "      <td>3.00000</td>\n",
       "    </tr>\n",
       "    <tr>\n",
       "      <th>75%</th>\n",
       "      <td>539.250000</td>\n",
       "      <td>515.00000</td>\n",
       "      <td>80.000000</td>\n",
       "      <td>100.000000</td>\n",
       "      <td>90.000000</td>\n",
       "      <td>95.000000</td>\n",
       "      <td>90.000000</td>\n",
       "      <td>90.000000</td>\n",
       "      <td>5.00000</td>\n",
       "    </tr>\n",
       "    <tr>\n",
       "      <th>max</th>\n",
       "      <td>721.000000</td>\n",
       "      <td>780.00000</td>\n",
       "      <td>255.000000</td>\n",
       "      <td>190.000000</td>\n",
       "      <td>230.000000</td>\n",
       "      <td>194.000000</td>\n",
       "      <td>230.000000</td>\n",
       "      <td>180.000000</td>\n",
       "      <td>6.00000</td>\n",
       "    </tr>\n",
       "  </tbody>\n",
       "</table>\n",
       "</div>"
      ],
      "text/plain": [
       "                #      Total          HP      Attack     Defense     Sp. Atk  \\\n",
       "count  800.000000  800.00000  800.000000  800.000000  800.000000  800.000000   \n",
       "mean   362.813750  435.10250   69.258750   79.001250   73.842500   72.820000   \n",
       "std    208.343798  119.96304   25.534669   32.457366   31.183501   32.722294   \n",
       "min      1.000000  180.00000    1.000000    5.000000    5.000000   10.000000   \n",
       "25%    184.750000  330.00000   50.000000   55.000000   50.000000   49.750000   \n",
       "50%    364.500000  450.00000   65.000000   75.000000   70.000000   65.000000   \n",
       "75%    539.250000  515.00000   80.000000  100.000000   90.000000   95.000000   \n",
       "max    721.000000  780.00000  255.000000  190.000000  230.000000  194.000000   \n",
       "\n",
       "          Sp. Def       Speed  Generation  \n",
       "count  800.000000  800.000000   800.00000  \n",
       "mean    71.902500   68.277500     3.32375  \n",
       "std     27.828916   29.060474     1.66129  \n",
       "min     20.000000    5.000000     1.00000  \n",
       "25%     50.000000   45.000000     2.00000  \n",
       "50%     70.000000   65.000000     3.00000  \n",
       "75%     90.000000   90.000000     5.00000  \n",
       "max    230.000000  180.000000     6.00000  "
      ]
     },
     "execution_count": 10,
     "metadata": {},
     "output_type": "execute_result"
    }
   ],
   "source": [
    "df.describe()  ### gives us a statistical summary of the provided data"
   ]
  },
  {
   "cell_type": "markdown",
   "id": "8049608e",
   "metadata": {},
   "source": [
    "# CONCLUSION-\n",
    "1.#: Each Pokemon's ID.\n",
    "\n",
    "2.Name: Name of each pokemon\n",
    "\n",
    "3.Type 1: The primary type of each Pokemon which determines their strengths and weaknesses.\n",
    "\n",
    "4.Type 2: The secundary type for each Pokemon, which determines their secondary strengths and weaknesses.\n",
    "\n",
    "5.Total: The sum of all the other stats\n",
    "\n",
    "6.HP: hit points, or health, defines how much damage a pokemon can withstand before fainting.\n",
    "\n",
    "7.Attack: the base modifier for normal attacks (eg. Scratch, Punch).\n",
    "\n",
    "8.Defense: the base damage resistance against normal attacks.\n",
    "\n",
    "9.SP Atk: special attack, the base modifier for special attacks (e.g. fire blast, bubble beam).\n",
    "\n",
    "10.SP Def: the base damage resistance against special attacks.\n",
    "\n",
    "11.Speed: determines which pokemon attacks first each round.\n",
    "\n",
    "# SUMMARY-\n",
    "From the dataset provided i.e. (POKEMON DATASET) I have been able to draw the following premiliminary conclusions :\n",
    "\n",
    "1.This dataset is related the Pokemon videogame series having 12 variables and 800 observations throughout 6 generations across different consoles such as DS, Gamecube, Nintendo 64, Nintendo Switch etc.\n",
    "\n",
    "2.Regarding the dataset, as mentioned before except for 386 NaN values in TYPE 2 the rest of dtypes seem perfect and there are different types of data available such as booleans(LEGENDARY column),integers and objects.\n",
    "There is no nan or missing values.\n",
    "\n",
    "3.From this describe function we can easily say that mean value for attack is highest and mean value of speed is lowest. Hence we can say their speed is less than attacks.\n",
    "\n",
    "4.Standard deviation for Special attack is highest and for special defence it is lowest hence we can say that pokemons are highly deviated or large difference in their Spl attack and viceversa.\n",
    "\n",
    "5.Minimum value for HP is 1 and Maximun is 255, Minimum value for Attack is 5 and Maximum is 190, Minimum value for Defence is   5 and Maximum is 230, Minimum value for Special Attack is 10 and Maximum is 194, Minimum value for Special Defence is 20 and Maximum is 230, lowest Speed is 5 andhighest speed is 180. 4. 25% pokemons have HP less than 50 Attack less than 55,Defence less than 50, Special attack less than 49, special defence less than 50 and speed less than 45.\n",
    "\n",
    "6.50% pokemons have HF less than 65 Attack less than 75,Defence less than 70,Special attack less than 65, special defence less than 70 and speed lessthan 65\n",
    "\n",
    "7.75% pokemons have HP less than 80 Attack less than 100,Defence less than 90.Special attack less than 95, special defence less than 90 and speed less than 90.\n"
   ]
  },
  {
   "cell_type": "markdown",
   "id": "4f9bf410",
   "metadata": {},
   "source": [
    "# 2. Central tendency and interpretation"
   ]
  },
  {
   "cell_type": "code",
   "execution_count": 11,
   "id": "adbff0b5",
   "metadata": {},
   "outputs": [],
   "source": [
    "import numpy as np\n",
    "import pandas as pd\n",
    "import matplotlib.pyplot as plt\n",
    "import seaborn as sns"
   ]
  },
  {
   "cell_type": "markdown",
   "id": "6f527762",
   "metadata": {},
   "source": [
    "# Method 1"
   ]
  },
  {
   "cell_type": "code",
   "execution_count": 12,
   "id": "5ef1c915",
   "metadata": {},
   "outputs": [
    {
     "name": "stdout",
     "output_type": "stream",
     "text": [
      "Mean is:\n",
      "#             362.81375\n",
      "Total         435.10250\n",
      "HP             69.25875\n",
      "Attack         79.00125\n",
      "Defense        73.84250\n",
      "Sp. Atk        72.82000\n",
      "Sp. Def        71.90250\n",
      "Speed          68.27750\n",
      "Generation      3.32375\n",
      "Legendary       0.08125\n",
      "dtype: float64\n"
     ]
    }
   ],
   "source": [
    "print(\"Mean is:\")\n",
    "print(df.mean())"
   ]
  },
  {
   "cell_type": "code",
   "execution_count": 13,
   "id": "10872d46",
   "metadata": {},
   "outputs": [
    {
     "name": "stdout",
     "output_type": "stream",
     "text": [
      "Median is:\n"
     ]
    },
    {
     "data": {
      "text/plain": [
       "#             364.5\n",
       "Total         450.0\n",
       "HP             65.0\n",
       "Attack         75.0\n",
       "Defense        70.0\n",
       "Sp. Atk        65.0\n",
       "Sp. Def        70.0\n",
       "Speed          65.0\n",
       "Generation      3.0\n",
       "Legendary       0.0\n",
       "dtype: float64"
      ]
     },
     "execution_count": 13,
     "metadata": {},
     "output_type": "execute_result"
    }
   ],
   "source": [
    "print(\"Median is:\")\n",
    "df.median()"
   ]
  },
  {
   "cell_type": "code",
   "execution_count": 14,
   "id": "71bc271f",
   "metadata": {},
   "outputs": [
    {
     "name": "stdout",
     "output_type": "stream",
     "text": [
      "Mode is:\n"
     ]
    },
    {
     "data": {
      "text/html": [
       "<div>\n",
       "<style scoped>\n",
       "    .dataframe tbody tr th:only-of-type {\n",
       "        vertical-align: middle;\n",
       "    }\n",
       "\n",
       "    .dataframe tbody tr th {\n",
       "        vertical-align: top;\n",
       "    }\n",
       "\n",
       "    .dataframe thead th {\n",
       "        text-align: right;\n",
       "    }\n",
       "</style>\n",
       "<table border=\"1\" class=\"dataframe\">\n",
       "  <thead>\n",
       "    <tr style=\"text-align: right;\">\n",
       "      <th></th>\n",
       "      <th>#</th>\n",
       "      <th>Name</th>\n",
       "      <th>Type 1</th>\n",
       "      <th>Type 2</th>\n",
       "      <th>Total</th>\n",
       "      <th>HP</th>\n",
       "      <th>Attack</th>\n",
       "      <th>Defense</th>\n",
       "      <th>Sp. Atk</th>\n",
       "      <th>Sp. Def</th>\n",
       "      <th>Speed</th>\n",
       "      <th>Generation</th>\n",
       "      <th>Legendary</th>\n",
       "    </tr>\n",
       "  </thead>\n",
       "  <tbody>\n",
       "    <tr>\n",
       "      <th>0</th>\n",
       "      <td>479.0</td>\n",
       "      <td>Abomasnow</td>\n",
       "      <td>Water</td>\n",
       "      <td>Flying</td>\n",
       "      <td>600.0</td>\n",
       "      <td>60.0</td>\n",
       "      <td>100.0</td>\n",
       "      <td>70.0</td>\n",
       "      <td>60.0</td>\n",
       "      <td>80.0</td>\n",
       "      <td>50.0</td>\n",
       "      <td>1.0</td>\n",
       "      <td>False</td>\n",
       "    </tr>\n",
       "    <tr>\n",
       "      <th>1</th>\n",
       "      <td>NaN</td>\n",
       "      <td>AbomasnowMega Abomasnow</td>\n",
       "      <td>NaN</td>\n",
       "      <td>NaN</td>\n",
       "      <td>NaN</td>\n",
       "      <td>NaN</td>\n",
       "      <td>NaN</td>\n",
       "      <td>NaN</td>\n",
       "      <td>NaN</td>\n",
       "      <td>NaN</td>\n",
       "      <td>NaN</td>\n",
       "      <td>NaN</td>\n",
       "      <td>NaN</td>\n",
       "    </tr>\n",
       "    <tr>\n",
       "      <th>2</th>\n",
       "      <td>NaN</td>\n",
       "      <td>Abra</td>\n",
       "      <td>NaN</td>\n",
       "      <td>NaN</td>\n",
       "      <td>NaN</td>\n",
       "      <td>NaN</td>\n",
       "      <td>NaN</td>\n",
       "      <td>NaN</td>\n",
       "      <td>NaN</td>\n",
       "      <td>NaN</td>\n",
       "      <td>NaN</td>\n",
       "      <td>NaN</td>\n",
       "      <td>NaN</td>\n",
       "    </tr>\n",
       "    <tr>\n",
       "      <th>3</th>\n",
       "      <td>NaN</td>\n",
       "      <td>Absol</td>\n",
       "      <td>NaN</td>\n",
       "      <td>NaN</td>\n",
       "      <td>NaN</td>\n",
       "      <td>NaN</td>\n",
       "      <td>NaN</td>\n",
       "      <td>NaN</td>\n",
       "      <td>NaN</td>\n",
       "      <td>NaN</td>\n",
       "      <td>NaN</td>\n",
       "      <td>NaN</td>\n",
       "      <td>NaN</td>\n",
       "    </tr>\n",
       "    <tr>\n",
       "      <th>4</th>\n",
       "      <td>NaN</td>\n",
       "      <td>AbsolMega Absol</td>\n",
       "      <td>NaN</td>\n",
       "      <td>NaN</td>\n",
       "      <td>NaN</td>\n",
       "      <td>NaN</td>\n",
       "      <td>NaN</td>\n",
       "      <td>NaN</td>\n",
       "      <td>NaN</td>\n",
       "      <td>NaN</td>\n",
       "      <td>NaN</td>\n",
       "      <td>NaN</td>\n",
       "      <td>NaN</td>\n",
       "    </tr>\n",
       "    <tr>\n",
       "      <th>...</th>\n",
       "      <td>...</td>\n",
       "      <td>...</td>\n",
       "      <td>...</td>\n",
       "      <td>...</td>\n",
       "      <td>...</td>\n",
       "      <td>...</td>\n",
       "      <td>...</td>\n",
       "      <td>...</td>\n",
       "      <td>...</td>\n",
       "      <td>...</td>\n",
       "      <td>...</td>\n",
       "      <td>...</td>\n",
       "      <td>...</td>\n",
       "    </tr>\n",
       "    <tr>\n",
       "      <th>795</th>\n",
       "      <td>NaN</td>\n",
       "      <td>Zoroark</td>\n",
       "      <td>NaN</td>\n",
       "      <td>NaN</td>\n",
       "      <td>NaN</td>\n",
       "      <td>NaN</td>\n",
       "      <td>NaN</td>\n",
       "      <td>NaN</td>\n",
       "      <td>NaN</td>\n",
       "      <td>NaN</td>\n",
       "      <td>NaN</td>\n",
       "      <td>NaN</td>\n",
       "      <td>NaN</td>\n",
       "    </tr>\n",
       "    <tr>\n",
       "      <th>796</th>\n",
       "      <td>NaN</td>\n",
       "      <td>Zorua</td>\n",
       "      <td>NaN</td>\n",
       "      <td>NaN</td>\n",
       "      <td>NaN</td>\n",
       "      <td>NaN</td>\n",
       "      <td>NaN</td>\n",
       "      <td>NaN</td>\n",
       "      <td>NaN</td>\n",
       "      <td>NaN</td>\n",
       "      <td>NaN</td>\n",
       "      <td>NaN</td>\n",
       "      <td>NaN</td>\n",
       "    </tr>\n",
       "    <tr>\n",
       "      <th>797</th>\n",
       "      <td>NaN</td>\n",
       "      <td>Zubat</td>\n",
       "      <td>NaN</td>\n",
       "      <td>NaN</td>\n",
       "      <td>NaN</td>\n",
       "      <td>NaN</td>\n",
       "      <td>NaN</td>\n",
       "      <td>NaN</td>\n",
       "      <td>NaN</td>\n",
       "      <td>NaN</td>\n",
       "      <td>NaN</td>\n",
       "      <td>NaN</td>\n",
       "      <td>NaN</td>\n",
       "    </tr>\n",
       "    <tr>\n",
       "      <th>798</th>\n",
       "      <td>NaN</td>\n",
       "      <td>Zweilous</td>\n",
       "      <td>NaN</td>\n",
       "      <td>NaN</td>\n",
       "      <td>NaN</td>\n",
       "      <td>NaN</td>\n",
       "      <td>NaN</td>\n",
       "      <td>NaN</td>\n",
       "      <td>NaN</td>\n",
       "      <td>NaN</td>\n",
       "      <td>NaN</td>\n",
       "      <td>NaN</td>\n",
       "      <td>NaN</td>\n",
       "    </tr>\n",
       "    <tr>\n",
       "      <th>799</th>\n",
       "      <td>NaN</td>\n",
       "      <td>Zygarde50% Forme</td>\n",
       "      <td>NaN</td>\n",
       "      <td>NaN</td>\n",
       "      <td>NaN</td>\n",
       "      <td>NaN</td>\n",
       "      <td>NaN</td>\n",
       "      <td>NaN</td>\n",
       "      <td>NaN</td>\n",
       "      <td>NaN</td>\n",
       "      <td>NaN</td>\n",
       "      <td>NaN</td>\n",
       "      <td>NaN</td>\n",
       "    </tr>\n",
       "  </tbody>\n",
       "</table>\n",
       "<p>800 rows × 13 columns</p>\n",
       "</div>"
      ],
      "text/plain": [
       "         #                     Name Type 1  Type 2  Total    HP  Attack  \\\n",
       "0    479.0                Abomasnow  Water  Flying  600.0  60.0   100.0   \n",
       "1      NaN  AbomasnowMega Abomasnow    NaN     NaN    NaN   NaN     NaN   \n",
       "2      NaN                     Abra    NaN     NaN    NaN   NaN     NaN   \n",
       "3      NaN                    Absol    NaN     NaN    NaN   NaN     NaN   \n",
       "4      NaN          AbsolMega Absol    NaN     NaN    NaN   NaN     NaN   \n",
       "..     ...                      ...    ...     ...    ...   ...     ...   \n",
       "795    NaN                  Zoroark    NaN     NaN    NaN   NaN     NaN   \n",
       "796    NaN                    Zorua    NaN     NaN    NaN   NaN     NaN   \n",
       "797    NaN                    Zubat    NaN     NaN    NaN   NaN     NaN   \n",
       "798    NaN                 Zweilous    NaN     NaN    NaN   NaN     NaN   \n",
       "799    NaN         Zygarde50% Forme    NaN     NaN    NaN   NaN     NaN   \n",
       "\n",
       "     Defense  Sp. Atk  Sp. Def  Speed  Generation Legendary  \n",
       "0       70.0     60.0     80.0   50.0         1.0     False  \n",
       "1        NaN      NaN      NaN    NaN         NaN       NaN  \n",
       "2        NaN      NaN      NaN    NaN         NaN       NaN  \n",
       "3        NaN      NaN      NaN    NaN         NaN       NaN  \n",
       "4        NaN      NaN      NaN    NaN         NaN       NaN  \n",
       "..       ...      ...      ...    ...         ...       ...  \n",
       "795      NaN      NaN      NaN    NaN         NaN       NaN  \n",
       "796      NaN      NaN      NaN    NaN         NaN       NaN  \n",
       "797      NaN      NaN      NaN    NaN         NaN       NaN  \n",
       "798      NaN      NaN      NaN    NaN         NaN       NaN  \n",
       "799      NaN      NaN      NaN    NaN         NaN       NaN  \n",
       "\n",
       "[800 rows x 13 columns]"
      ]
     },
     "execution_count": 14,
     "metadata": {},
     "output_type": "execute_result"
    }
   ],
   "source": [
    "print(\"Mode is:\")\n",
    "df.mode()"
   ]
  },
  {
   "cell_type": "markdown",
   "id": "ab1a5686",
   "metadata": {},
   "source": [
    "# Method 2"
   ]
  },
  {
   "cell_type": "code",
   "execution_count": 40,
   "id": "1f2787b8",
   "metadata": {},
   "outputs": [],
   "source": [
    "import statistics"
   ]
  },
  {
   "cell_type": "code",
   "execution_count": 41,
   "id": "46dde0f5",
   "metadata": {},
   "outputs": [
    {
     "name": "stdout",
     "output_type": "stream",
     "text": [
      "Mean for df ['Total']= 435.1025\n",
      "Median for df ['Total']= 450.0\n",
      "Mode for df ['Total']= 600\n"
     ]
    }
   ],
   "source": [
    "print(\"Mean for df ['Total']=\",statistics.mean(df['Total']))\n",
    "print(\"Median for df ['Total']=\",statistics.median(df['Total']))\n",
    "print(\"Mode for df ['Total']=\",statistics.mode(df['Total']))"
   ]
  },
  {
   "cell_type": "code",
   "execution_count": 17,
   "id": "891789da",
   "metadata": {},
   "outputs": [
    {
     "name": "stdout",
     "output_type": "stream",
     "text": [
      "Mean for df ['HP']= 69.25875\n",
      "Median for df ['HP']= 65.0\n",
      "Mode for df ['HP']= 60\n"
     ]
    }
   ],
   "source": [
    "print(\"Mean for df ['HP']=\",statistics.mean(df['HP']))\n",
    "print(\"Median for df ['HP']=\",statistics.median(df['HP']))\n",
    "print(\"Mode for df ['HP']=\",statistics.mode(df['HP']))"
   ]
  },
  {
   "cell_type": "code",
   "execution_count": 18,
   "id": "41e02a29",
   "metadata": {},
   "outputs": [
    {
     "name": "stdout",
     "output_type": "stream",
     "text": [
      "Mean for df ['Attack']= 79.00125\n",
      "Median for df ['Attack']= 75.0\n",
      "Mode for df ['Attack']= 100\n"
     ]
    }
   ],
   "source": [
    "print(\"Mean for df ['Attack']=\",statistics.mean(df['Attack']))\n",
    "print(\"Median for df ['Attack']=\",statistics.median(df['Attack']))\n",
    "print(\"Mode for df ['Attack']=\",statistics.mode(df['Attack']))"
   ]
  },
  {
   "cell_type": "code",
   "execution_count": 19,
   "id": "e6043e33",
   "metadata": {},
   "outputs": [
    {
     "name": "stdout",
     "output_type": "stream",
     "text": [
      "Mean for df ['Defense']= 73.8425\n",
      "Median for df ['Defense']= 70.0\n",
      "Mode for df ['Defense']= 70\n"
     ]
    }
   ],
   "source": [
    "print(\"Mean for df ['Defense']=\",statistics.mean(df['Defense']))\n",
    "print(\"Median for df ['Defense']=\",statistics.median(df['Defense']))\n",
    "print(\"Mode for df ['Defense']=\",statistics.mode(df['Defense']))"
   ]
  },
  {
   "cell_type": "code",
   "execution_count": 20,
   "id": "17803be7",
   "metadata": {},
   "outputs": [
    {
     "name": "stdout",
     "output_type": "stream",
     "text": [
      "Mean for df ['Sp. Atk']= 72.82\n",
      "Median for df ['Sp. Atk']= 65.0\n",
      "Mode for df ['Sp Atk']= 60\n"
     ]
    }
   ],
   "source": [
    "print(\"Mean for df ['Sp. Atk']=\",statistics.mean(df['Sp. Atk']))\n",
    "print(\"Median for df ['Sp. Atk']=\",statistics.median(df['Sp. Atk']))\n",
    "print(\"Mode for df ['Sp Atk']=\",statistics.mode(df['Sp. Atk']))"
   ]
  },
  {
   "cell_type": "code",
   "execution_count": 21,
   "id": "728813b3",
   "metadata": {},
   "outputs": [
    {
     "name": "stdout",
     "output_type": "stream",
     "text": [
      "Mean for df ['Sp. Def']= 71.9025\n",
      "Median for df ['Sp. Def']= 70.0\n",
      "Mode for df ['Sp Def']= 80\n"
     ]
    }
   ],
   "source": [
    "print(\"Mean for df ['Sp. Def']=\",statistics.mean(df['Sp. Def']))\n",
    "print(\"Median for df ['Sp. Def']=\",statistics.median(df['Sp. Def']))\n",
    "print(\"Mode for df ['Sp Def']=\",statistics.mode(df['Sp. Def']))"
   ]
  },
  {
   "cell_type": "code",
   "execution_count": 22,
   "id": "e760949b",
   "metadata": {},
   "outputs": [
    {
     "name": "stdout",
     "output_type": "stream",
     "text": [
      "Mean for df ['Speed']= 68.2775\n",
      "Median for df ['Speed']= 65.0\n",
      "Mode for df ['Speed']= 50\n"
     ]
    }
   ],
   "source": [
    "print(\"Mean for df ['Speed']=\",statistics.mean(df['Speed']))\n",
    "print(\"Median for df ['Speed']=\",statistics.median(df['Speed']))\n",
    "print(\"Mode for df ['Speed']=\",statistics.mode(df['Speed']))"
   ]
  },
  {
   "cell_type": "code",
   "execution_count": 23,
   "id": "6cf313ad",
   "metadata": {},
   "outputs": [
    {
     "name": "stdout",
     "output_type": "stream",
     "text": [
      "Mean for df ['Generation']= 3.32375\n",
      "Median for df ['Generation']= 3.0\n",
      "Mode for df ['Generatiion']= 1\n"
     ]
    }
   ],
   "source": [
    "print(\"Mean for df ['Generation']=\",statistics.mean(df['Generation']))\n",
    "print(\"Median for df ['Generation']=\",statistics.median(df['Generation']))\n",
    "print(\"Mode for df ['Generatiion']=\",statistics.mode(df['Generation']))"
   ]
  },
  {
   "cell_type": "code",
   "execution_count": 24,
   "id": "1283f7b6",
   "metadata": {},
   "outputs": [
    {
     "name": "stdout",
     "output_type": "stream",
     "text": [
      "Mean for df ['Legendary']= 0.08125\n",
      "Median for df ['Legendary']= 0.0\n",
      "Mode for df ['Legendary']= False\n"
     ]
    }
   ],
   "source": [
    "print(\"Mean for df ['Legendary']=\",statistics.mean(df['Legendary']))\n",
    "print(\"Median for df ['Legendary']=\",statistics.median(df['Legendary']))\n",
    "print(\"Mode for df ['Legendary']=\",statistics.mode(df['Legendary']))"
   ]
  },
  {
   "cell_type": "markdown",
   "id": "eabcf3bd",
   "metadata": {},
   "source": [
    "# Observations from central tendency measures (i.e. mean, median, mode)\n",
    "# Skewness of each feature\n",
    "\n",
    "# Total\n",
    "As mode>median>mean - it is negatively skewed distribution \n",
    " \n",
    "# HP\n",
    "As mean>median>mode- it is positively skewed distribution\n",
    "\n",
    "# Attack\n",
    "As mode>median>mean - it is negatively skewed distribution \n",
    "\n",
    "# Defense\n",
    "Here as (median = mode) < mean which means Mean is the best measure of central tendency here so this is NOt Skewed distribution\n",
    "\n",
    "# Sp.Attk\n",
    "As mean>median>mode- it is positively skewed distribution\n",
    "\n",
    "# Sp.Def\n",
    "As here Mode is greater than mean as well as median so it is negatively skewed distribution.\n",
    "\n",
    "# Speed\n",
    "As mean>median>mode- it is positively skewed distribution\n",
    "\n",
    "# Generation\n",
    "As mean>median>mode- it is positively skewed distribution\n"
   ]
  },
  {
   "cell_type": "markdown",
   "id": "3549fc50",
   "metadata": {},
   "source": [
    "# 3.Groupby-(categorical) and frequency distribution of the dataset"
   ]
  },
  {
   "cell_type": "code",
   "execution_count": 7,
   "id": "e4f9ed0a",
   "metadata": {},
   "outputs": [
    {
     "data": {
      "text/plain": [
       "#             721\n",
       "Name          800\n",
       "Type 1         18\n",
       "Type 2         18\n",
       "Total         200\n",
       "HP             94\n",
       "Attack        111\n",
       "Defense       103\n",
       "Sp. Atk       105\n",
       "Sp. Def        92\n",
       "Speed         108\n",
       "Generation      6\n",
       "Legendary       2\n",
       "dtype: int64"
      ]
     },
     "execution_count": 7,
     "metadata": {},
     "output_type": "execute_result"
    }
   ],
   "source": [
    "df.nunique()"
   ]
  },
  {
   "cell_type": "code",
   "execution_count": 8,
   "id": "7184b73b",
   "metadata": {},
   "outputs": [
    {
     "data": {
      "text/plain": [
       "array([318, 405, 525, 625, 309, 534, 634, 314, 530, 630, 195, 205, 395,\n",
       "       495, 251, 349, 479, 579, 253, 413, 262, 442, 288, 438, 320, 485,\n",
       "       300, 450, 275, 365, 505, 273, 323, 483, 299, 270, 435, 245, 455,\n",
       "       490, 285, 305, 265, 290, 440, 500, 350, 555, 385, 510, 310, 400,\n",
       "       590, 390, 335, 515, 410, 315, 325, 465, 352, 460, 475, 600, 328,\n",
       "       330, 480, 520, 425, 340, 345, 295, 200, 540, 640, 535, 355, 615,\n",
       "       580, 420, 680, 780, 215, 415, 250, 218, 210, 470, 280, 610, 360,\n",
       "       180, 430, 336, 380, 700, 635, 220, 240, 198, 278, 518, 618, 269,\n",
       "       414, 670, 266, 456, 236, 237, 474, 190, 375, 260, 575, 302, 467,\n",
       "       560, 458, 468, 308, 565, 770, 194, 384, 263, 363, 523, 224, 424,\n",
       "       244, 482, 348, 498, 452, 329, 411, 454, 334, 494, 594, 545, 720,\n",
       "       528, 418, 255, 370, 281, 446, 316, 292, 487, 264, 358, 488, 497,\n",
       "       313, 508, 445, 294, 509, 351, 519, 461, 303, 401, 567, 473, 428,\n",
       "       464, 319, 472, 489, 471, 484, 550, 660, 307, 409, 423, 382, 499,\n",
       "       213, 369, 507, 371, 552, 531, 466, 448, 341, 462, 306, 289, 481,\n",
       "       362, 521, 431, 304, 514], dtype=int64)"
      ]
     },
     "execution_count": 8,
     "metadata": {},
     "output_type": "execute_result"
    }
   ],
   "source": [
    "df['Total'].unique()"
   ]
  },
  {
   "cell_type": "code",
   "execution_count": 9,
   "id": "22088f76",
   "metadata": {},
   "outputs": [
    {
     "data": {
      "text/plain": [
       "array([ 45,  60,  80,  39,  58,  78,  44,  59,  79,  50,  40,  65,  63,\n",
       "        83,  30,  55,  35,  75,  70,  90,  46,  61,  81,  95,  38,  73,\n",
       "       115, 140,  10,  25,  52, 105,  85, 250,  20, 130,  48, 160,  41,\n",
       "        91, 106, 100, 125, 190, 255,  28,  68, 150,  31,   1,  64,  84,\n",
       "       104,  72, 144, 170, 110,  43,  66,  86,  99,  76,  53,  37,  77,\n",
       "        67,  97, 111,  49,  71, 103,  57, 108, 135,  74,  69, 120, 116,\n",
       "        62,  54,  36,  51, 114, 165, 109,  89,  92,  56,  88, 123, 101,\n",
       "        82,  42, 126], dtype=int64)"
      ]
     },
     "execution_count": 9,
     "metadata": {},
     "output_type": "execute_result"
    }
   ],
   "source": [
    "df['HP'].unique()"
   ]
  },
  {
   "cell_type": "code",
   "execution_count": 10,
   "id": "78dc84d5",
   "metadata": {},
   "outputs": [
    {
     "data": {
      "text/plain": [
       "#               0\n",
       "Name            0\n",
       "Type 1          0\n",
       "Type 2        386\n",
       "Total           0\n",
       "HP              0\n",
       "Attack          0\n",
       "Defense         0\n",
       "Sp. Atk         0\n",
       "Sp. Def         0\n",
       "Speed           0\n",
       "Generation      0\n",
       "Legendary       0\n",
       "dtype: int64"
      ]
     },
     "execution_count": 10,
     "metadata": {},
     "output_type": "execute_result"
    }
   ],
   "source": [
    "df.isnull().sum()"
   ]
  },
  {
   "cell_type": "code",
   "execution_count": 11,
   "id": "c0b1d6db",
   "metadata": {},
   "outputs": [
    {
     "data": {
      "text/plain": [
       "array(['Grass', 'Fire', 'Water', 'Bug', 'Normal', 'Poison', 'Electric',\n",
       "       'Ground', 'Fairy', 'Fighting', 'Psychic', 'Rock', 'Ghost', 'Ice',\n",
       "       'Dragon', 'Dark', 'Steel', 'Flying'], dtype=object)"
      ]
     },
     "execution_count": 11,
     "metadata": {},
     "output_type": "execute_result"
    }
   ],
   "source": [
    "df['Type 1'].unique()"
   ]
  },
  {
   "cell_type": "code",
   "execution_count": 12,
   "id": "3f634926",
   "metadata": {},
   "outputs": [
    {
     "data": {
      "text/plain": [
       "array(['Poison', nan, 'Flying', 'Dragon', 'Ground', 'Fairy', 'Grass',\n",
       "       'Fighting', 'Psychic', 'Steel', 'Ice', 'Rock', 'Dark', 'Water',\n",
       "       'Electric', 'Fire', 'Ghost', 'Bug', 'Normal'], dtype=object)"
      ]
     },
     "execution_count": 12,
     "metadata": {},
     "output_type": "execute_result"
    }
   ],
   "source": [
    "df['Type 2'].unique()"
   ]
  },
  {
   "cell_type": "code",
   "execution_count": 13,
   "id": "4b3de4a4",
   "metadata": {
    "scrolled": true
   },
   "outputs": [
    {
     "data": {
      "text/plain": [
       "Type 1  Type 2  \n",
       "Bug     Electric    395.500000\n",
       "        Fighting    550.000000\n",
       "        Fire        455.000000\n",
       "        Flying      419.500000\n",
       "        Ghost       236.000000\n",
       "                       ...    \n",
       "Water   Ice         511.666667\n",
       "        Poison      426.666667\n",
       "        Psychic     481.000000\n",
       "        Rock        428.750000\n",
       "        Steel       530.000000\n",
       "Name: Total, Length: 136, dtype: float64"
      ]
     },
     "execution_count": 13,
     "metadata": {},
     "output_type": "execute_result"
    }
   ],
   "source": [
    "df.groupby(['Type 1','Type 2'])['Total'].mean()"
   ]
  },
  {
   "cell_type": "markdown",
   "id": "22c4a6b7",
   "metadata": {},
   "source": [
    "\n",
    "Strongest Type of Pokemons Water has the best Total as well as it has most legendaries."
   ]
  },
  {
   "cell_type": "code",
   "execution_count": 27,
   "id": "6ed2e67f",
   "metadata": {},
   "outputs": [
    {
     "data": {
      "text/plain": [
       "Type 1  Type 2    Generation  Legendary\n",
       "Bug     Electric  5           False        395.500000\n",
       "        Fighting  2           False        550.000000\n",
       "        Fire      5           False        455.000000\n",
       "        Flying    1           False        498.333333\n",
       "                  2           False        348.333333\n",
       "                                              ...    \n",
       "Water   Psychic   2           False        490.000000\n",
       "        Rock      2           False        380.000000\n",
       "                  3           False        485.000000\n",
       "                  5           False        425.000000\n",
       "        Steel     4           False        530.000000\n",
       "Name: Total, Length: 218, dtype: float64"
      ]
     },
     "execution_count": 27,
     "metadata": {},
     "output_type": "execute_result"
    }
   ],
   "source": [
    "df.groupby(['Type 1','Type 2','Generation','Legendary'])['Total'].mean()"
   ]
  },
  {
   "cell_type": "code",
   "execution_count": 80,
   "id": "059e0543",
   "metadata": {},
   "outputs": [
    {
     "data": {
      "text/html": [
       "<div>\n",
       "<style scoped>\n",
       "    .dataframe tbody tr th:only-of-type {\n",
       "        vertical-align: middle;\n",
       "    }\n",
       "\n",
       "    .dataframe tbody tr th {\n",
       "        vertical-align: top;\n",
       "    }\n",
       "\n",
       "    .dataframe thead th {\n",
       "        text-align: right;\n",
       "    }\n",
       "</style>\n",
       "<table border=\"1\" class=\"dataframe\">\n",
       "  <thead>\n",
       "    <tr style=\"text-align: right;\">\n",
       "      <th></th>\n",
       "      <th></th>\n",
       "      <th></th>\n",
       "      <th></th>\n",
       "      <th></th>\n",
       "      <th>#</th>\n",
       "      <th>Total</th>\n",
       "      <th>HP</th>\n",
       "      <th>Attack</th>\n",
       "      <th>Defense</th>\n",
       "      <th>Sp. Atk</th>\n",
       "      <th>Sp. Def</th>\n",
       "      <th>Speed</th>\n",
       "    </tr>\n",
       "    <tr>\n",
       "      <th>Name</th>\n",
       "      <th>Type 1</th>\n",
       "      <th>Type 2</th>\n",
       "      <th>Generation</th>\n",
       "      <th>Legendary</th>\n",
       "      <th></th>\n",
       "      <th></th>\n",
       "      <th></th>\n",
       "      <th></th>\n",
       "      <th></th>\n",
       "      <th></th>\n",
       "      <th></th>\n",
       "      <th></th>\n",
       "    </tr>\n",
       "  </thead>\n",
       "  <tbody>\n",
       "    <tr>\n",
       "      <th>Abomasnow</th>\n",
       "      <th>Grass</th>\n",
       "      <th>Ice</th>\n",
       "      <th>4</th>\n",
       "      <th>False</th>\n",
       "      <td>460</td>\n",
       "      <td>494</td>\n",
       "      <td>90</td>\n",
       "      <td>92</td>\n",
       "      <td>75</td>\n",
       "      <td>92</td>\n",
       "      <td>85</td>\n",
       "      <td>60</td>\n",
       "    </tr>\n",
       "    <tr>\n",
       "      <th>AbomasnowMega Abomasnow</th>\n",
       "      <th>Grass</th>\n",
       "      <th>Ice</th>\n",
       "      <th>4</th>\n",
       "      <th>False</th>\n",
       "      <td>460</td>\n",
       "      <td>594</td>\n",
       "      <td>90</td>\n",
       "      <td>132</td>\n",
       "      <td>105</td>\n",
       "      <td>132</td>\n",
       "      <td>105</td>\n",
       "      <td>30</td>\n",
       "    </tr>\n",
       "    <tr>\n",
       "      <th>AegislashBlade Forme</th>\n",
       "      <th>Steel</th>\n",
       "      <th>Ghost</th>\n",
       "      <th>6</th>\n",
       "      <th>False</th>\n",
       "      <td>681</td>\n",
       "      <td>520</td>\n",
       "      <td>60</td>\n",
       "      <td>150</td>\n",
       "      <td>50</td>\n",
       "      <td>150</td>\n",
       "      <td>50</td>\n",
       "      <td>60</td>\n",
       "    </tr>\n",
       "    <tr>\n",
       "      <th>AegislashShield Forme</th>\n",
       "      <th>Steel</th>\n",
       "      <th>Ghost</th>\n",
       "      <th>6</th>\n",
       "      <th>False</th>\n",
       "      <td>681</td>\n",
       "      <td>520</td>\n",
       "      <td>60</td>\n",
       "      <td>50</td>\n",
       "      <td>150</td>\n",
       "      <td>50</td>\n",
       "      <td>150</td>\n",
       "      <td>60</td>\n",
       "    </tr>\n",
       "    <tr>\n",
       "      <th>Aerodactyl</th>\n",
       "      <th>Rock</th>\n",
       "      <th>Flying</th>\n",
       "      <th>1</th>\n",
       "      <th>False</th>\n",
       "      <td>142</td>\n",
       "      <td>515</td>\n",
       "      <td>80</td>\n",
       "      <td>105</td>\n",
       "      <td>65</td>\n",
       "      <td>60</td>\n",
       "      <td>75</td>\n",
       "      <td>130</td>\n",
       "    </tr>\n",
       "    <tr>\n",
       "      <th>...</th>\n",
       "      <th>...</th>\n",
       "      <th>...</th>\n",
       "      <th>...</th>\n",
       "      <th>...</th>\n",
       "      <td>...</td>\n",
       "      <td>...</td>\n",
       "      <td>...</td>\n",
       "      <td>...</td>\n",
       "      <td>...</td>\n",
       "      <td>...</td>\n",
       "      <td>...</td>\n",
       "      <td>...</td>\n",
       "    </tr>\n",
       "    <tr>\n",
       "      <th>Zapdos</th>\n",
       "      <th>Electric</th>\n",
       "      <th>Flying</th>\n",
       "      <th>1</th>\n",
       "      <th>True</th>\n",
       "      <td>145</td>\n",
       "      <td>580</td>\n",
       "      <td>90</td>\n",
       "      <td>90</td>\n",
       "      <td>85</td>\n",
       "      <td>125</td>\n",
       "      <td>90</td>\n",
       "      <td>100</td>\n",
       "    </tr>\n",
       "    <tr>\n",
       "      <th>Zekrom</th>\n",
       "      <th>Dragon</th>\n",
       "      <th>Electric</th>\n",
       "      <th>5</th>\n",
       "      <th>True</th>\n",
       "      <td>644</td>\n",
       "      <td>680</td>\n",
       "      <td>100</td>\n",
       "      <td>150</td>\n",
       "      <td>120</td>\n",
       "      <td>120</td>\n",
       "      <td>100</td>\n",
       "      <td>90</td>\n",
       "    </tr>\n",
       "    <tr>\n",
       "      <th>Zubat</th>\n",
       "      <th>Poison</th>\n",
       "      <th>Flying</th>\n",
       "      <th>1</th>\n",
       "      <th>False</th>\n",
       "      <td>41</td>\n",
       "      <td>245</td>\n",
       "      <td>40</td>\n",
       "      <td>45</td>\n",
       "      <td>35</td>\n",
       "      <td>30</td>\n",
       "      <td>40</td>\n",
       "      <td>55</td>\n",
       "    </tr>\n",
       "    <tr>\n",
       "      <th>Zweilous</th>\n",
       "      <th>Dark</th>\n",
       "      <th>Dragon</th>\n",
       "      <th>5</th>\n",
       "      <th>False</th>\n",
       "      <td>634</td>\n",
       "      <td>420</td>\n",
       "      <td>72</td>\n",
       "      <td>85</td>\n",
       "      <td>70</td>\n",
       "      <td>65</td>\n",
       "      <td>70</td>\n",
       "      <td>58</td>\n",
       "    </tr>\n",
       "    <tr>\n",
       "      <th>Zygarde50% Forme</th>\n",
       "      <th>Dragon</th>\n",
       "      <th>Ground</th>\n",
       "      <th>6</th>\n",
       "      <th>True</th>\n",
       "      <td>718</td>\n",
       "      <td>600</td>\n",
       "      <td>108</td>\n",
       "      <td>100</td>\n",
       "      <td>121</td>\n",
       "      <td>81</td>\n",
       "      <td>95</td>\n",
       "      <td>95</td>\n",
       "    </tr>\n",
       "  </tbody>\n",
       "</table>\n",
       "<p>414 rows × 8 columns</p>\n",
       "</div>"
      ],
      "text/plain": [
       "                                                                  #  Total  \\\n",
       "Name                    Type 1   Type 2   Generation Legendary               \n",
       "Abomasnow               Grass    Ice      4          False      460    494   \n",
       "AbomasnowMega Abomasnow Grass    Ice      4          False      460    594   \n",
       "AegislashBlade Forme    Steel    Ghost    6          False      681    520   \n",
       "AegislashShield Forme   Steel    Ghost    6          False      681    520   \n",
       "Aerodactyl              Rock     Flying   1          False      142    515   \n",
       "...                                                             ...    ...   \n",
       "Zapdos                  Electric Flying   1          True       145    580   \n",
       "Zekrom                  Dragon   Electric 5          True       644    680   \n",
       "Zubat                   Poison   Flying   1          False       41    245   \n",
       "Zweilous                Dark     Dragon   5          False      634    420   \n",
       "Zygarde50% Forme        Dragon   Ground   6          True       718    600   \n",
       "\n",
       "                                                                 HP  Attack  \\\n",
       "Name                    Type 1   Type 2   Generation Legendary                \n",
       "Abomasnow               Grass    Ice      4          False       90      92   \n",
       "AbomasnowMega Abomasnow Grass    Ice      4          False       90     132   \n",
       "AegislashBlade Forme    Steel    Ghost    6          False       60     150   \n",
       "AegislashShield Forme   Steel    Ghost    6          False       60      50   \n",
       "Aerodactyl              Rock     Flying   1          False       80     105   \n",
       "...                                                             ...     ...   \n",
       "Zapdos                  Electric Flying   1          True        90      90   \n",
       "Zekrom                  Dragon   Electric 5          True       100     150   \n",
       "Zubat                   Poison   Flying   1          False       40      45   \n",
       "Zweilous                Dark     Dragon   5          False       72      85   \n",
       "Zygarde50% Forme        Dragon   Ground   6          True       108     100   \n",
       "\n",
       "                                                                Defense  \\\n",
       "Name                    Type 1   Type 2   Generation Legendary            \n",
       "Abomasnow               Grass    Ice      4          False           75   \n",
       "AbomasnowMega Abomasnow Grass    Ice      4          False          105   \n",
       "AegislashBlade Forme    Steel    Ghost    6          False           50   \n",
       "AegislashShield Forme   Steel    Ghost    6          False          150   \n",
       "Aerodactyl              Rock     Flying   1          False           65   \n",
       "...                                                                 ...   \n",
       "Zapdos                  Electric Flying   1          True            85   \n",
       "Zekrom                  Dragon   Electric 5          True           120   \n",
       "Zubat                   Poison   Flying   1          False           35   \n",
       "Zweilous                Dark     Dragon   5          False           70   \n",
       "Zygarde50% Forme        Dragon   Ground   6          True           121   \n",
       "\n",
       "                                                                Sp. Atk  \\\n",
       "Name                    Type 1   Type 2   Generation Legendary            \n",
       "Abomasnow               Grass    Ice      4          False           92   \n",
       "AbomasnowMega Abomasnow Grass    Ice      4          False          132   \n",
       "AegislashBlade Forme    Steel    Ghost    6          False          150   \n",
       "AegislashShield Forme   Steel    Ghost    6          False           50   \n",
       "Aerodactyl              Rock     Flying   1          False           60   \n",
       "...                                                                 ...   \n",
       "Zapdos                  Electric Flying   1          True           125   \n",
       "Zekrom                  Dragon   Electric 5          True           120   \n",
       "Zubat                   Poison   Flying   1          False           30   \n",
       "Zweilous                Dark     Dragon   5          False           65   \n",
       "Zygarde50% Forme        Dragon   Ground   6          True            81   \n",
       "\n",
       "                                                                Sp. Def  Speed  \n",
       "Name                    Type 1   Type 2   Generation Legendary                  \n",
       "Abomasnow               Grass    Ice      4          False           85     60  \n",
       "AbomasnowMega Abomasnow Grass    Ice      4          False          105     30  \n",
       "AegislashBlade Forme    Steel    Ghost    6          False           50     60  \n",
       "AegislashShield Forme   Steel    Ghost    6          False          150     60  \n",
       "Aerodactyl              Rock     Flying   1          False           75    130  \n",
       "...                                                                 ...    ...  \n",
       "Zapdos                  Electric Flying   1          True            90    100  \n",
       "Zekrom                  Dragon   Electric 5          True           100     90  \n",
       "Zubat                   Poison   Flying   1          False           40     55  \n",
       "Zweilous                Dark     Dragon   5          False           70     58  \n",
       "Zygarde50% Forme        Dragon   Ground   6          True            95     95  \n",
       "\n",
       "[414 rows x 8 columns]"
      ]
     },
     "execution_count": 80,
     "metadata": {},
     "output_type": "execute_result"
    }
   ],
   "source": [
    "df.groupby(['Name','Type 1','Type 2','Generation','Legendary']).mean()"
   ]
  },
  {
   "cell_type": "code",
   "execution_count": 81,
   "id": "ffc827e7",
   "metadata": {},
   "outputs": [
    {
     "data": {
      "text/html": [
       "<div>\n",
       "<style scoped>\n",
       "    .dataframe tbody tr th:only-of-type {\n",
       "        vertical-align: middle;\n",
       "    }\n",
       "\n",
       "    .dataframe tbody tr th {\n",
       "        vertical-align: top;\n",
       "    }\n",
       "\n",
       "    .dataframe thead th {\n",
       "        text-align: right;\n",
       "    }\n",
       "</style>\n",
       "<table border=\"1\" class=\"dataframe\">\n",
       "  <thead>\n",
       "    <tr style=\"text-align: right;\">\n",
       "      <th></th>\n",
       "      <th></th>\n",
       "      <th></th>\n",
       "      <th></th>\n",
       "      <th>#</th>\n",
       "      <th>Total</th>\n",
       "      <th>HP</th>\n",
       "      <th>Attack</th>\n",
       "      <th>Defense</th>\n",
       "      <th>Sp. Atk</th>\n",
       "      <th>Sp. Def</th>\n",
       "      <th>Speed</th>\n",
       "    </tr>\n",
       "    <tr>\n",
       "      <th>Type 1</th>\n",
       "      <th>Type 2</th>\n",
       "      <th>Generation</th>\n",
       "      <th>Legendary</th>\n",
       "      <th></th>\n",
       "      <th></th>\n",
       "      <th></th>\n",
       "      <th></th>\n",
       "      <th></th>\n",
       "      <th></th>\n",
       "      <th></th>\n",
       "      <th></th>\n",
       "    </tr>\n",
       "  </thead>\n",
       "  <tbody>\n",
       "    <tr>\n",
       "      <th rowspan=\"5\" valign=\"top\">Bug</th>\n",
       "      <th>Electric</th>\n",
       "      <th>5</th>\n",
       "      <th>False</th>\n",
       "      <td>595.500000</td>\n",
       "      <td>395.500000</td>\n",
       "      <td>60.000000</td>\n",
       "      <td>62.000000</td>\n",
       "      <td>55.000000</td>\n",
       "      <td>77.000000</td>\n",
       "      <td>55.000000</td>\n",
       "      <td>86.500000</td>\n",
       "    </tr>\n",
       "    <tr>\n",
       "      <th>Fighting</th>\n",
       "      <th>2</th>\n",
       "      <th>False</th>\n",
       "      <td>214.000000</td>\n",
       "      <td>550.000000</td>\n",
       "      <td>80.000000</td>\n",
       "      <td>155.000000</td>\n",
       "      <td>95.000000</td>\n",
       "      <td>40.000000</td>\n",
       "      <td>100.000000</td>\n",
       "      <td>80.000000</td>\n",
       "    </tr>\n",
       "    <tr>\n",
       "      <th>Fire</th>\n",
       "      <th>5</th>\n",
       "      <th>False</th>\n",
       "      <td>636.500000</td>\n",
       "      <td>455.000000</td>\n",
       "      <td>70.000000</td>\n",
       "      <td>72.500000</td>\n",
       "      <td>60.000000</td>\n",
       "      <td>92.500000</td>\n",
       "      <td>80.000000</td>\n",
       "      <td>80.000000</td>\n",
       "    </tr>\n",
       "    <tr>\n",
       "      <th rowspan=\"2\" valign=\"top\">Flying</th>\n",
       "      <th>1</th>\n",
       "      <th>False</th>\n",
       "      <td>87.333333</td>\n",
       "      <td>498.333333</td>\n",
       "      <td>65.000000</td>\n",
       "      <td>103.333333</td>\n",
       "      <td>83.333333</td>\n",
       "      <td>70.000000</td>\n",
       "      <td>83.333333</td>\n",
       "      <td>93.333333</td>\n",
       "    </tr>\n",
       "    <tr>\n",
       "      <th>2</th>\n",
       "      <th>False</th>\n",
       "      <td>174.666667</td>\n",
       "      <td>348.333333</td>\n",
       "      <td>53.333333</td>\n",
       "      <td>40.000000</td>\n",
       "      <td>41.666667</td>\n",
       "      <td>56.666667</td>\n",
       "      <td>78.333333</td>\n",
       "      <td>78.333333</td>\n",
       "    </tr>\n",
       "    <tr>\n",
       "      <th>...</th>\n",
       "      <th>...</th>\n",
       "      <th>...</th>\n",
       "      <th>...</th>\n",
       "      <td>...</td>\n",
       "      <td>...</td>\n",
       "      <td>...</td>\n",
       "      <td>...</td>\n",
       "      <td>...</td>\n",
       "      <td>...</td>\n",
       "      <td>...</td>\n",
       "      <td>...</td>\n",
       "    </tr>\n",
       "    <tr>\n",
       "      <th rowspan=\"5\" valign=\"top\">Water</th>\n",
       "      <th>Psychic</th>\n",
       "      <th>2</th>\n",
       "      <th>False</th>\n",
       "      <td>199.000000</td>\n",
       "      <td>490.000000</td>\n",
       "      <td>95.000000</td>\n",
       "      <td>75.000000</td>\n",
       "      <td>80.000000</td>\n",
       "      <td>100.000000</td>\n",
       "      <td>110.000000</td>\n",
       "      <td>30.000000</td>\n",
       "    </tr>\n",
       "    <tr>\n",
       "      <th rowspan=\"3\" valign=\"top\">Rock</th>\n",
       "      <th>2</th>\n",
       "      <th>False</th>\n",
       "      <td>222.000000</td>\n",
       "      <td>380.000000</td>\n",
       "      <td>55.000000</td>\n",
       "      <td>55.000000</td>\n",
       "      <td>85.000000</td>\n",
       "      <td>65.000000</td>\n",
       "      <td>85.000000</td>\n",
       "      <td>35.000000</td>\n",
       "    </tr>\n",
       "    <tr>\n",
       "      <th>3</th>\n",
       "      <th>False</th>\n",
       "      <td>369.000000</td>\n",
       "      <td>485.000000</td>\n",
       "      <td>100.000000</td>\n",
       "      <td>90.000000</td>\n",
       "      <td>130.000000</td>\n",
       "      <td>45.000000</td>\n",
       "      <td>65.000000</td>\n",
       "      <td>55.000000</td>\n",
       "    </tr>\n",
       "    <tr>\n",
       "      <th>5</th>\n",
       "      <th>False</th>\n",
       "      <td>564.500000</td>\n",
       "      <td>425.000000</td>\n",
       "      <td>64.000000</td>\n",
       "      <td>93.000000</td>\n",
       "      <td>118.000000</td>\n",
       "      <td>68.000000</td>\n",
       "      <td>55.000000</td>\n",
       "      <td>27.000000</td>\n",
       "    </tr>\n",
       "    <tr>\n",
       "      <th>Steel</th>\n",
       "      <th>4</th>\n",
       "      <th>False</th>\n",
       "      <td>395.000000</td>\n",
       "      <td>530.000000</td>\n",
       "      <td>84.000000</td>\n",
       "      <td>86.000000</td>\n",
       "      <td>88.000000</td>\n",
       "      <td>111.000000</td>\n",
       "      <td>101.000000</td>\n",
       "      <td>60.000000</td>\n",
       "    </tr>\n",
       "  </tbody>\n",
       "</table>\n",
       "<p>218 rows × 8 columns</p>\n",
       "</div>"
      ],
      "text/plain": [
       "                                               #       Total          HP  \\\n",
       "Type 1 Type 2   Generation Legendary                                       \n",
       "Bug    Electric 5          False      595.500000  395.500000   60.000000   \n",
       "       Fighting 2          False      214.000000  550.000000   80.000000   \n",
       "       Fire     5          False      636.500000  455.000000   70.000000   \n",
       "       Flying   1          False       87.333333  498.333333   65.000000   \n",
       "                2          False      174.666667  348.333333   53.333333   \n",
       "...                                          ...         ...         ...   \n",
       "Water  Psychic  2          False      199.000000  490.000000   95.000000   \n",
       "       Rock     2          False      222.000000  380.000000   55.000000   \n",
       "                3          False      369.000000  485.000000  100.000000   \n",
       "                5          False      564.500000  425.000000   64.000000   \n",
       "       Steel    4          False      395.000000  530.000000   84.000000   \n",
       "\n",
       "                                          Attack     Defense     Sp. Atk  \\\n",
       "Type 1 Type 2   Generation Legendary                                       \n",
       "Bug    Electric 5          False       62.000000   55.000000   77.000000   \n",
       "       Fighting 2          False      155.000000   95.000000   40.000000   \n",
       "       Fire     5          False       72.500000   60.000000   92.500000   \n",
       "       Flying   1          False      103.333333   83.333333   70.000000   \n",
       "                2          False       40.000000   41.666667   56.666667   \n",
       "...                                          ...         ...         ...   \n",
       "Water  Psychic  2          False       75.000000   80.000000  100.000000   \n",
       "       Rock     2          False       55.000000   85.000000   65.000000   \n",
       "                3          False       90.000000  130.000000   45.000000   \n",
       "                5          False       93.000000  118.000000   68.000000   \n",
       "       Steel    4          False       86.000000   88.000000  111.000000   \n",
       "\n",
       "                                         Sp. Def      Speed  \n",
       "Type 1 Type 2   Generation Legendary                         \n",
       "Bug    Electric 5          False       55.000000  86.500000  \n",
       "       Fighting 2          False      100.000000  80.000000  \n",
       "       Fire     5          False       80.000000  80.000000  \n",
       "       Flying   1          False       83.333333  93.333333  \n",
       "                2          False       78.333333  78.333333  \n",
       "...                                          ...        ...  \n",
       "Water  Psychic  2          False      110.000000  30.000000  \n",
       "       Rock     2          False       85.000000  35.000000  \n",
       "                3          False       65.000000  55.000000  \n",
       "                5          False       55.000000  27.000000  \n",
       "       Steel    4          False      101.000000  60.000000  \n",
       "\n",
       "[218 rows x 8 columns]"
      ]
     },
     "execution_count": 81,
     "metadata": {},
     "output_type": "execute_result"
    }
   ],
   "source": [
    "df.groupby(['Type 1','Type 2','Generation','Legendary']).mean()"
   ]
  },
  {
   "cell_type": "code",
   "execution_count": 14,
   "id": "3562fa76",
   "metadata": {},
   "outputs": [],
   "source": [
    "import seaborn as sns"
   ]
  },
  {
   "cell_type": "code",
   "execution_count": 15,
   "id": "4e6200d5",
   "metadata": {},
   "outputs": [
    {
     "data": {
      "text/plain": [
       "<AxesSubplot:xlabel='Total', ylabel='Count'>"
      ]
     },
     "execution_count": 15,
     "metadata": {},
     "output_type": "execute_result"
    },
    {
     "data": {
      "image/png": "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\n",
      "text/plain": [
       "<Figure size 432x288 with 1 Axes>"
      ]
     },
     "metadata": {
      "needs_background": "light"
     },
     "output_type": "display_data"
    }
   ],
   "source": [
    "total=sns.histplot(x=df['Total'])\n",
    "total"
   ]
  },
  {
   "cell_type": "code",
   "execution_count": 42,
   "id": "81bd3b26",
   "metadata": {},
   "outputs": [
    {
     "data": {
      "text/plain": [
       "(array([ 14., 149., 283., 170., 111.,  45.,  18.,   5.,   2.,   3.]),\n",
       " array([  5. ,  27.5,  50. ,  72.5,  95. , 117.5, 140. , 162.5, 185. ,\n",
       "        207.5, 230. ]),\n",
       " <BarContainer object of 10 artists>)"
      ]
     },
     "execution_count": 42,
     "metadata": {},
     "output_type": "execute_result"
    },
    {
     "data": {
      "image/png": "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\n",
      "text/plain": [
       "<Figure size 648x432 with 3 Axes>"
      ]
     },
     "metadata": {
      "needs_background": "light"
     },
     "output_type": "display_data"
    }
   ],
   "source": [
    "fig=plt.figure(1,figsize=(9,6))\n",
    "ax=fig.add_subplot(131)\n",
    "ax.hist(df['HP'])\n",
    "bx=fig.add_subplot(132)\n",
    "bx.hist(df['Attack'])\n",
    "cx=fig.add_subplot(133)\n",
    "cx.hist(df['Defense'])"
   ]
  },
  {
   "cell_type": "code",
   "execution_count": 44,
   "id": "b4327105",
   "metadata": {},
   "outputs": [
    {
     "data": {
      "text/plain": [
       "(array([ 30.,  97., 183., 168., 144., 108.,  50.,  11.,   8.,   1.]),\n",
       " array([  5. ,  22.5,  40. ,  57.5,  75. ,  92.5, 110. , 127.5, 145. ,\n",
       "        162.5, 180. ]),\n",
       " <BarContainer object of 10 artists>)"
      ]
     },
     "execution_count": 44,
     "metadata": {},
     "output_type": "execute_result"
    },
    {
     "data": {
      "image/png": "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\n",
      "text/plain": [
       "<Figure size 648x432 with 3 Axes>"
      ]
     },
     "metadata": {
      "needs_background": "light"
     },
     "output_type": "display_data"
    }
   ],
   "source": [
    "fig1=plt.figure(1,figsize=(9,6))\n",
    "ax1=fig1.add_subplot(131)\n",
    "ax1.hist(df['Sp. Atk'])\n",
    "bx1=fig1.add_subplot(132)\n",
    "bx1.hist(df['Sp. Def'])\n",
    "cx1=fig1.add_subplot(133)\n",
    "cx1.hist(df['Speed'])"
   ]
  },
  {
   "cell_type": "code",
   "execution_count": 16,
   "id": "e6d225e3",
   "metadata": {},
   "outputs": [
    {
     "data": {
      "text/plain": [
       "<AxesSubplot:title={'center':'Pokemon Defense Ratings'}, ylabel='Frequency'>"
      ]
     },
     "execution_count": 16,
     "metadata": {},
     "output_type": "execute_result"
    },
    {
     "data": {
      "image/png": "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\n",
      "text/plain": [
       "<Figure size 576x576 with 2 Axes>"
      ]
     },
     "metadata": {
      "needs_background": "light"
     },
     "output_type": "display_data"
    }
   ],
   "source": [
    "fig,axarr = plt.subplots(2, 1, figsize=(8, 8))\n",
    "df['Attack'].plot.hist(ax=axarr[0], title='Pokemon Attack Ratings', bins=13)\n",
    "df['Defense'].plot.hist(ax=axarr[1], title='Pokemon Defense Ratings', bins=13)"
   ]
  },
  {
   "cell_type": "code",
   "execution_count": 21,
   "id": "ae14943d",
   "metadata": {},
   "outputs": [
    {
     "data": {
      "text/plain": [
       "<AxesSubplot:title={'center':'Pokemon Sp. Atk Ratings'}, ylabel='Frequency'>"
      ]
     },
     "execution_count": 21,
     "metadata": {},
     "output_type": "execute_result"
    },
    {
     "data": {
      "image/png": "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\n",
      "text/plain": [
       "<Figure size 576x576 with 2 Axes>"
      ]
     },
     "metadata": {
      "needs_background": "light"
     },
     "output_type": "display_data"
    }
   ],
   "source": [
    "fig,axarr = plt.subplots(2, 1, figsize=(8, 8))\n",
    "df['HP'].plot.hist(ax=axarr[0], title='Pokemon HP Ratings', bins=13)\n",
    "df['Sp. Atk'].plot.hist(ax=axarr[1], title='Pokemon Sp. Atk Ratings', bins=13)"
   ]
  },
  {
   "cell_type": "code",
   "execution_count": 24,
   "id": "aca4fc23",
   "metadata": {},
   "outputs": [
    {
     "data": {
      "text/plain": [
       "<AxesSubplot:title={'center':'Pokemon Speed Ratings'}, ylabel='Frequency'>"
      ]
     },
     "execution_count": 24,
     "metadata": {},
     "output_type": "execute_result"
    },
    {
     "data": {
      "image/png": "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\n",
      "text/plain": [
       "<Figure size 576x576 with 2 Axes>"
      ]
     },
     "metadata": {
      "needs_background": "light"
     },
     "output_type": "display_data"
    }
   ],
   "source": [
    "fig,axarr = plt.subplots(2, 1, figsize=(8, 8))\n",
    "df['Sp. Def'].plot.hist(ax=axarr[0], title='Pokemon Sp. Def Ratings', bins=13)\n",
    "df['Speed'].plot.hist(ax=axarr[1], title='Pokemon Speed Ratings', bins=13)"
   ]
  },
  {
   "cell_type": "code",
   "execution_count": 21,
   "id": "c250d3a1",
   "metadata": {},
   "outputs": [
    {
     "data": {
      "text/html": [
       "<div>\n",
       "<style scoped>\n",
       "    .dataframe tbody tr th:only-of-type {\n",
       "        vertical-align: middle;\n",
       "    }\n",
       "\n",
       "    .dataframe tbody tr th {\n",
       "        vertical-align: top;\n",
       "    }\n",
       "\n",
       "    .dataframe thead th {\n",
       "        text-align: right;\n",
       "    }\n",
       "</style>\n",
       "<table border=\"1\" class=\"dataframe\">\n",
       "  <thead>\n",
       "    <tr style=\"text-align: right;\">\n",
       "      <th></th>\n",
       "      <th>Total</th>\n",
       "      <th>HP</th>\n",
       "      <th>Attack</th>\n",
       "      <th>Defense</th>\n",
       "      <th>Sp. Atk</th>\n",
       "      <th>Sp. Def</th>\n",
       "      <th>Speed</th>\n",
       "    </tr>\n",
       "  </thead>\n",
       "  <tbody>\n",
       "    <tr>\n",
       "      <th>0</th>\n",
       "      <td>318</td>\n",
       "      <td>45</td>\n",
       "      <td>49</td>\n",
       "      <td>49</td>\n",
       "      <td>65</td>\n",
       "      <td>65</td>\n",
       "      <td>45</td>\n",
       "    </tr>\n",
       "    <tr>\n",
       "      <th>1</th>\n",
       "      <td>405</td>\n",
       "      <td>60</td>\n",
       "      <td>62</td>\n",
       "      <td>63</td>\n",
       "      <td>80</td>\n",
       "      <td>80</td>\n",
       "      <td>60</td>\n",
       "    </tr>\n",
       "    <tr>\n",
       "      <th>2</th>\n",
       "      <td>525</td>\n",
       "      <td>80</td>\n",
       "      <td>82</td>\n",
       "      <td>83</td>\n",
       "      <td>100</td>\n",
       "      <td>100</td>\n",
       "      <td>80</td>\n",
       "    </tr>\n",
       "    <tr>\n",
       "      <th>3</th>\n",
       "      <td>625</td>\n",
       "      <td>80</td>\n",
       "      <td>100</td>\n",
       "      <td>123</td>\n",
       "      <td>122</td>\n",
       "      <td>120</td>\n",
       "      <td>80</td>\n",
       "    </tr>\n",
       "    <tr>\n",
       "      <th>4</th>\n",
       "      <td>309</td>\n",
       "      <td>39</td>\n",
       "      <td>52</td>\n",
       "      <td>43</td>\n",
       "      <td>60</td>\n",
       "      <td>50</td>\n",
       "      <td>65</td>\n",
       "    </tr>\n",
       "    <tr>\n",
       "      <th>...</th>\n",
       "      <td>...</td>\n",
       "      <td>...</td>\n",
       "      <td>...</td>\n",
       "      <td>...</td>\n",
       "      <td>...</td>\n",
       "      <td>...</td>\n",
       "      <td>...</td>\n",
       "    </tr>\n",
       "    <tr>\n",
       "      <th>795</th>\n",
       "      <td>600</td>\n",
       "      <td>50</td>\n",
       "      <td>100</td>\n",
       "      <td>150</td>\n",
       "      <td>100</td>\n",
       "      <td>150</td>\n",
       "      <td>50</td>\n",
       "    </tr>\n",
       "    <tr>\n",
       "      <th>796</th>\n",
       "      <td>700</td>\n",
       "      <td>50</td>\n",
       "      <td>160</td>\n",
       "      <td>110</td>\n",
       "      <td>160</td>\n",
       "      <td>110</td>\n",
       "      <td>110</td>\n",
       "    </tr>\n",
       "    <tr>\n",
       "      <th>797</th>\n",
       "      <td>600</td>\n",
       "      <td>80</td>\n",
       "      <td>110</td>\n",
       "      <td>60</td>\n",
       "      <td>150</td>\n",
       "      <td>130</td>\n",
       "      <td>70</td>\n",
       "    </tr>\n",
       "    <tr>\n",
       "      <th>798</th>\n",
       "      <td>680</td>\n",
       "      <td>80</td>\n",
       "      <td>160</td>\n",
       "      <td>60</td>\n",
       "      <td>170</td>\n",
       "      <td>130</td>\n",
       "      <td>80</td>\n",
       "    </tr>\n",
       "    <tr>\n",
       "      <th>799</th>\n",
       "      <td>600</td>\n",
       "      <td>80</td>\n",
       "      <td>110</td>\n",
       "      <td>120</td>\n",
       "      <td>130</td>\n",
       "      <td>90</td>\n",
       "      <td>70</td>\n",
       "    </tr>\n",
       "  </tbody>\n",
       "</table>\n",
       "<p>800 rows × 7 columns</p>\n",
       "</div>"
      ],
      "text/plain": [
       "     Total  HP  Attack  Defense  Sp. Atk  Sp. Def  Speed\n",
       "0      318  45      49       49       65       65     45\n",
       "1      405  60      62       63       80       80     60\n",
       "2      525  80      82       83      100      100     80\n",
       "3      625  80     100      123      122      120     80\n",
       "4      309  39      52       43       60       50     65\n",
       "..     ...  ..     ...      ...      ...      ...    ...\n",
       "795    600  50     100      150      100      150     50\n",
       "796    700  50     160      110      160      110    110\n",
       "797    600  80     110       60      150      130     70\n",
       "798    680  80     160       60      170      130     80\n",
       "799    600  80     110      120      130       90     70\n",
       "\n",
       "[800 rows x 7 columns]"
      ]
     },
     "execution_count": 21,
     "metadata": {},
     "output_type": "execute_result"
    }
   ],
   "source": [
    "df1=df.iloc[:,4:11]\n",
    "df1"
   ]
  },
  {
   "cell_type": "code",
   "execution_count": 22,
   "id": "6cb5ed04",
   "metadata": {},
   "outputs": [
    {
     "name": "stderr",
     "output_type": "stream",
     "text": [
      "C:\\ProgramData\\Anaconda3\\lib\\site-packages\\seaborn\\distributions.py:2557: FutureWarning: `distplot` is a deprecated function and will be removed in a future version. Please adapt your code to use either `displot` (a figure-level function with similar flexibility) or `histplot` (an axes-level function for histograms).\n",
      "  warnings.warn(msg, FutureWarning)\n"
     ]
    },
    {
     "data": {
      "image/png": "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\n",
      "text/plain": [
       "<Figure size 432x288 with 1 Axes>"
      ]
     },
     "metadata": {
      "needs_background": "light"
     },
     "output_type": "display_data"
    },
    {
     "name": "stderr",
     "output_type": "stream",
     "text": [
      "C:\\ProgramData\\Anaconda3\\lib\\site-packages\\seaborn\\distributions.py:2557: FutureWarning: `distplot` is a deprecated function and will be removed in a future version. Please adapt your code to use either `displot` (a figure-level function with similar flexibility) or `histplot` (an axes-level function for histograms).\n",
      "  warnings.warn(msg, FutureWarning)\n"
     ]
    },
    {
     "data": {
      "image/png": "iVBORw0KGgoAAAANSUhEUgAAAZUAAAEGCAYAAACtqQjWAAAAOXRFWHRTb2Z0d2FyZQBNYXRwbG90bGliIHZlcnNpb24zLjMuNCwgaHR0cHM6Ly9tYXRwbG90bGliLm9yZy8QVMy6AAAACXBIWXMAAAsTAAALEwEAmpwYAAA0OElEQVR4nO3deZwcZ33g/8+3e+771EgaSZ6RNLIl+ZBs+cKWzQYMtl+ORUgCFoTDsOsosQMsr+xiAr+QZcMuSyCAA1hrghecYBtvgKAlIsYcPjDItmTLsg5LmtE50mhOzX30dPf390dVy+3RHDWj7qk+vu/Xq17dXVVP9bfUmv52Pc9TzyOqijHGGJMIAb8DMMYYkzksqRhjjEkYSyrGGGMSxpKKMcaYhLGkYowxJmFy/A7ATzU1NdrQ0OB3GMYYk1Z27drVpaq1k23L6qTS0NDAzp07/Q7DGGPSiogcn2qbVX8ZY4xJGEsqxhhjEsaSijHGmISxpGKMMSZhLKkYY4xJmKQmFRG5VUQOikiziNw/yXYRkQfc7XtE5Mq4bQ+LSIeI7J1Q5gcisttdjonIbnd9g4iMxG3bmsxzM8YYc76kdSkWkSDwTeAWoBV4SUS2qer+uN1uA5rc5VrgQfcR4LvAN4BH4o+rqu+Ne4+vAH1xm1tUdV1CT8QYY4xnybxSuQZoVtUjqhoCHgc2TdhnE/CIOnYAFSKyCEBVnwV6pjq4iAjwHuCxpERvfBGORP0OwRhzAZJ582M9cDLudStvXIVMt0890Obh+BuBdlU9HLeuUUReAfqBz6rqcxMLicg9wD0Ay5Yt8/A2Zj40dwzw1z/Zx29busnLCfDHVy3hr25fTXF+Vt+fa0zaSeZfrEyybuKMYF72mcpm3nyV0gYsU9VuEbkK+FcRWauq/W86uOpDwEMAGzZssBnKUsArJ87y3od2UJAT4M/euoKugTEeffEEO45086M/u4Hyoly/QzTGeJTMpNIKLI17vQQ4PYd9ziMiOcC7gati61R1DBhzn+8SkRZgFWDjsKSwjoFRtvzzLhaU5vOjP38LC0oLANi0rp67v/sin3xiN9/+4AYCgcl+fxhjUk0y21ReAppEpFFE8oC7gG0T9tkGfNDtBXYd0KeqXqq+3g68rqqtsRUiUut2DkBEluM0/h9JxImY5PmrH+2lfyTMQx/YcC6hANzYVMNnbl/NL1/v4Hu/O+ZfgMaYWUlaUlHVMHAf8CRwAHhCVfeJyBYR2eLuth3ni78Z+Dbw57HyIvIY8DvgYhFpFZGPxh3+Ls5voL8J2CMirwL/AmxR1Skb+o3/dhzp5hcH2vmLt61kzeKy87Z/6C0NbGyq4YFfHmZgdNyHCI0xsyWq2dussGHDBrVRiv2hqrzrm8/TMTDGr//yrRTkBifd77XWPn7/G7/hE29v4hNvXzXPURpjJiMiu1R1w2Tb7I5644unD3Xyamsf//mWVVMmFIDLlpRz26UL+cfnjtJvVyvGpDxLKsYXD//mKHVl+bxrXf2M+265eQWDY2F+snvGPhzGGJ9ZUjHz7nD7AM8d7uKD1zeQlzPzf8HLl5SzZlEZj71wgmyurjUmHVhSMfPuu789Rn5OgM3XeLv5VETYfM1S9rf189qpvpkLGGN8Y0nFzKuRUISf7D7NHZcvpqo4z3O5TevrKcgN8H93ts68szHGN5ZUzLz62d42BsfCvGfDklmVKyvI5T9cvIAn950hGrUqMGNSlQ2sZJLq0RdOvOn1Pz53hKriPJo7BmnpHJrVsUoLcugYGONLTx5kWVXRm7a971obx82YVGBXKmbe9AyFONI1xFUXVeIMMj07F9eVERDYf9raVYxJVZZUzLzZ09oLwLqlFXMqX5gXZEVtCftO91svMGNSlCUVM2/2tPaxrKqIyiLvDfQTrV5URvdQiM7BsQRGZoxJFEsqZl60949ypn+Uy5eUX9BxmhaUAMy6PcYYMz8sqZh58dqpPgS4rP7CkkpVcR4VRbkc6RxMTGDGmISypGKSTlXZ09pLY20xpQUXNuGWiLCitoQjnUNErV3FmJRjScUkXVvfKF2DIa6or0jI8VbUljAyHqGtdzQhxzPGJI4lFZN0e1p7CQisnWTOlLlYUVsMQItVgRmTciypmKRyqr76aFpQSlF+Yu61LS3IpbY0n6Nd1lhvTKqxpGKS6uTZEXpHxrnsAnt9TXRRVREneobtfhVjUowlFZNU+0/3ERBYvTAxVV8xy6qKGBmP0DUYSuhxjTEXxpKKSRpVZd/pflbUllCYN/XsjnOx1B3760TPcEKPa4y5MJZUTNI0dwzSPRRi9aLEXqUA1JbmU5AbsKRiTIqxpGKS5uf72wGSklQCIiytLOKkJRVjUkpSk4qI3CoiB0WkWUTun2S7iMgD7vY9InJl3LaHRaRDRPZOKPM3InJKRHa7y+1x2z7tHuugiLwzmedmZvbzfWdYUllIeeGF3fA4laVVRbT3jzI2HknK8Y0xs5e0pCIiQeCbwG3AGmCziKyZsNttQJO73AM8GLftu8CtUxz+q6q6zl22u++3BrgLWOuW+5Ybg/FBW98Ir7b2sSYJVykxy6qKUKC1dyRp72GMmZ1kXqlcAzSr6hFVDQGPA5sm7LMJeEQdO4AKEVkEoKrPAj2zeL9NwOOqOqaqR4FmNwbjg1+4VV9rEnTD42QWlRcA0GZJxZiUkcykUg+cjHvd6q6b7T6Tuc+tLntYRCpncywRuUdEdorIzs7OTg9vZebiyX3tLK8tZkFpQdLeo7Qgl7KCHE732XAtxqSKZCaVyab2m3inmpd9JnoQWAGsA9qAr8zmWKr6kKpuUNUNtbW1M7yVmYu+4XF2HOnmHWsWJv29FlcUctquVIxJGclMKq3A0rjXS4DTc9jnTVS1XVUjqhoFvs0bVVyzPpZJjqcPdRCOKresqUv6ey2uKKRzYIzhUDjp72WMmVkyk8pLQJOINIpIHk4j+rYJ+2wDPuj2ArsO6FPVtukOGmtzcf0BEOsdtg24S0TyRaQRp/H/xUSciJmdZw51UlmUO+dpg2djcXkhChxoG0j6exljZpaYEf4moaphEbkPeBIIAg+r6j4R2eJu3wpsB27HaVQfBu6OlReRx4C3AjUi0gp8TlW/A3xJRNbhVG0dA/7UPd4+EXkC2A+EgXtV1fqazrNoVHn2UBcbm2oJBiarkUysxRVOm83+031cdVHlDHsbY5ItaUkFwO3uu33Cuq1xzxW4d4qym6dY/4Fp3u8LwBfmFKxJiP1t/XQNjnHzqvlpryovzKUoL8hrp/rm5f2MMdOzO+pNQj1zyOlRt3FVzby8n4iwqLyAg2es+suYVGBJxSTUM4c6Wbu4LKldiSeqKyvgUPsg0agNg2+M3yypmIQZDoV55cRZblw5P1cpMXVlBYyMR2g9a12LjfGbJRWTMC8f72U8oly3onpe37euzLkqOthuVWDG+M2SikmY3x3pIhgQrm6omtf3XVCaD8AhSyrG+M6SikmYHUd6uHxJOSUJmoveq4LcIPUVhZZUjEkBllRMQgyHwrx6spfrls9v1VfMqroS6wFmTAqwpGISYtfxs4SjyvV+JZWFpRzpHGI8EvXl/Y0xDksqJiFeOnaWgODbXe0X15USikQ53j3ky/sbYxyWVExCvHLiLJcsLKN4nttTYlbVlQJwqH3Ql/c3xjhm/AYQkVrgPwEN8fur6keSF5ZJJ9GosvtEL5vWL/YthpULShCBg2cGuP2yRTMXMMYkhZeflT8BngN+AdgAjeY8hzsGGRgLs36pfwM6FuQGaaguth5gxvjMS1IpUtVPJT0Sk7ZePnEWgCt9HiV4VV2J3QBpjM+8tKn8VERuT3okJm29fPwsVcV5NFQX+RrHqrpSjncPMzpuF9TG+MVLUvk4TmIZFZEBd+lPdmAmfbxyspf1SysQSf78KdNZVVdKJKoc6bQeYMb4ZcakoqqlqhpQ1QL3eamqls1HcCb1DY6Faekc5PIlFX6HwsULYz3ArArMGL946v8pIncCN7kvn1bVnyYvJJNODrT1owqXLfH/d0ZDdTG5QbF2FWN8NOOVioh8EacKbL+7fNxdZwx73RkXL11c7nMkkJcToLGmmEM2XIsxvvFypXI7sE5VowAi8j3gFeD+ZAZm0sPeU/3UluazoGz+JuWaTlNdKa+12tTCxvjF6x31FXHP/f9JalLGvtN9XLrY/6qvmKYFJZw8O8xIyHqAGeMHL0nlfwKviMh33auUXcD/SG5YJh2Mjkc43DHIpfWp8zujaUEpqtDSacO1GOMHL72/HgOuA37kLter6uNeDi4it4rIQRFpFpHzqsvE8YC7fY+IXBm37WER6RCRvRPK/J2IvO7u/2MRqXDXN4jIiIjsdpetXmI0c/f6mQEiUWVtCrSnxDTVlQDQ3GFJxRg/TJlUROQS9/FKYBHQCpwEFsd/+U9TPgh8E7gNWANsFpE1E3a7DWhyl3uAB+O2fRe4dZJDPwVcqqqXA4eAT8dta1HVde6yZaYYzYWJNdKvTaHqr4bqYoIBsaRijE+ma6j/JM4X/Vcm2abA781w7GuAZlU9AiAijwObcHqQxWwCHlFVBXaISIWILFLVNlV9VkQazntj1Z/HvdwB/NEMcZgkOXhmgNKCHJZUFvodyjl5OQEaqos43GE9wIzxw5RJRVXvcZ/epqqj8dtExEtXn3qcK5uYVuBaD/vUA20ejg/wEeAHca8bReQVoB/4rKo+N7GAiNyDkyxZtmyZx7cxkznYPsDFdaW+30k/0coFJRy2KxVjfOGlof63HtdNNNk3jc5hn8kPLvIZIAx8313VBixT1fU4V1mPish59TKq+pCqblDVDbW1tV7eykxCVTl4ZoBV7l3sqaRpgTMG2FjYeoAZM9+mvFIRkYU4Vw2FIrKeNxJAGeBl5MBWYGnc6yXA6TnsM1lsHwLuAN7mVp2hqmPAmPt8l4i0AKuAnR5iNbPUMTBG38g4l6RiUqkrIRJVjnUNnxu6xRgzP6ZrU3kn8GGcL/q/j1s/APyVh2O/BDSJSCNwCrgLeN+EfbYB97ntLdcCfao6bdWXiNwKfAq4WVWH49bXAj2qGhGR5TiN/0c8xGnm4HX3rvXYjIupZOUCpwfY4Y4BSyrGzLPp2lS+B3xPRP5QVX842wOralhE7gOeBILAw6q6T0S2uNu3Attx7thvBoaBu2PlReQx4K1AjYi0Ap9T1e8A3wDygafcuvwdbk+vm4DPi0gYZzKxLaraM9u4jTeHUjiprKh1ZoG0HmDGzD8vw7RcKiJrJ65U1c/PVFBVt+Mkjvh1W+OeK3DvFGU3T7F+5RTrfwjMOvmZuTnYPkBtaT5VxXl+h3Kegtwgy6qKrLHeGB94SSrxf5kFOG0ZB5ITjkkXB88MpGR7SszK2hKa2y2pGDPfZkwqqvqm+1RE5Ms4bSEmS0WjyuGOAd53zUV+hzKllXUlPHu4k3AkSk7Q6xB3xpgLNZe/tiJgeaIDMenjVO8Io+PRc0OipKKmBaWMR5TjPcMz72yMSZgZr1RE5DXeuHckCNQCM7anmMwVG6xxRW0qJxW3B1j7YErHaUym8dKmckfc8zDQrqrhJMVj0kCLOwf8itpinyOZ2go3qdhoxcbMLy9tKsfdASRvxLli+Q3OJF0mS7V0DlJRlJuSPb9iSvJzqK8o5LBNLWzMvPIynfBfA98DqoEa4Lsi8tlkB2ZSV0vHoHsvSGqN+TXRygUlHLIeYMbMKy8N9ZuBq1X1c6r6OZy5Vd6f3LBMKmvpHErpqq+YVXUlNHcOEo5E/Q7FmKzhJakcw7k/JSYfaElKNCbl9Q2P0zU4lhaN3xcvLCMUjnKs23qAGTNfphtQ8h9w2lDGgH0i8pT7+hacdhWThVq6Ur/nV0zs5sxD7QPnxgMzxiTXdA31sdF9dwE/jlv/dNKiMSmvxR36ZEUafEmvXFBCQJzBL2+/bJHf4RiTFWYaUNKYNznSNUROQFiaQrM9TqUgN0hDdTEHz/T7HYoxWWO66q8nVPU9E25+PMedI95kmWNdQyyrKkqboU8uXlh6bph+Y0zyTVf99XH38Y5p9jFZ5mjXEA01qd/zK2ZVXSn/vu8MI6EIhXlBv8MxJuNN+XNTVdtEJAh8R1WPT1zmMUaTIlSV493DNFSnT1K5ZGEpqs6EXcaY5Ju2DkNVI8CwiJTPUzwmhXUMjDEyHqGxxsts0qnhkkVlALzeZknFmPngZeyvUeA1t0vxUGylqn4saVGZlHS0y/n4L0qjK5WLqooozguy73QfsNTvcIzJeF6Syr+5S7zzGu5N5jvmJpXGNGpTCQSE1YvK2HfaeoAZMx+8JJUKVf16/AoR+fhUO5vMdbR7iLxggMUVqd+dON6l9eU8sfMk0agSCKT2eGXGpDsv/UI/NMm6Dyc4DpMGjnUNsbSqkGCafTGvWVzGcCjC0e6hmXc2xlyQKZOKiGwWkf8HNIrItrjlaaDby8FF5FYROSgizSJy/yTbRUQecLfvcYfYj217WEQ6RGTvhDJVIvKUiBx2Hyvjtn3aPdZBEXmnlxiNd8e7h9Oq6itm7WKnsd6qwIxJvumuVH4LfAV43X2MLZ8Ebp3pwG535G8CtwFrgM0ismbCbrcBTe5yD/Bg3LbvTvE+9wO/VNUm4Jfua9xj3wWsdct9y43BJEA0qhzrHkqr7sQxTQtKyQsG3MZ6Y0wyTXefynFVfRp4O/Ccqj4DtAFLAC/1H9cAzap6RFVDwOPApgn7bAIeUccOoEJEFrnv/yzQM8lxN+HM74L7+K649Y+r6piqHgWa3RhMAnQOjjE6HuWi6vTpThyTlxNg1cIS9p2yKxVjks1Lm8qzQIGI1ONcGdyNcxUxk3rgZNzrVnfdbPeZqE5V28C5QRNYMJtjicg9IrJTRHZ2dnbOeBLGcaLHGT5+WRpeqQBcuricvaf7ULWOi8Ykk5feX6KqwyLyUeAfVPVLIuJlOuHJrmYm/kV72ccrT8dS1YeAhwA2bNiQtd8wj75wYlb7v3z8LACvnuzl1NmRZISUVOuWVvD4Syc52jXE8jQYtt+YdOXlSkVE5Hqc2R5j96t4SUatvPlusyXA6TnsM1F7rIrMfey4gGMZj3qGQwhQUZTrdyhzsn6Z05/jlRO9/gZiTIbzklQ+AXwa+LGq7hOR5cCvPZR7CWgSkUYRycNpRN82YZ9twAfdXmDXAX2xqq1pbOONbs4fAn4St/4uEckXkUacxv8XPcRpPOgZClFelEtOID1GJ56oaUEJpfk5vHLyrN+hGJPRZrzicBvon4l7fQSYcYgWVQ2LyH3Ak0AQeNhNSlvc7VuB7cDtOI3qwzjtNQCIyGPAW4EaEWkFPqeq3wG+CDzhVsedAP7YPd4+EXkC2A+EgXvdsctMAvQMhagqyvM7jDkLBIQrllbYlYoxSTbdfCpfU9VPuPeqTNY2cedMB1fV7TiJI37d1rjnCtw7RdnNU6zvBt42xbYvAF+YKS4zez1DoXPT86ar9csq+NbTLQyHwhTleanBNcbM1nR/Wf/kPn55PgIxqSsUjjI4FqaqOH2vVMBJKpGo8lprH9cur/Y7HGMy0nTTCe9yH5+Zah+THXqGQwBpn1TWLXUa61861mNJxZgkma76a9JphGNsOuHs0TOYGUmlqjiPSxaW8rsj3dz3e01+h2NMRpqu+is2jXCszSNWHfZ+nEZ1kyUy5UoF4C0ravj+C8cZHY9QkGuj+BiTaNNVfx0HEJEbVPWGuE33i8jzwOeTHZxJDT1DIQpyAxSm8Jew15s5xyNRxsJRvvzkwTndBPm+a5fNuowx2cTLTQfFInJj7IWIvAVIz7E6zJycdbsTi6TXkPeTaawpRoCWThsG35hk8NKv8qPAw+489Qr0AR9JalQmpXQPhagry/c7jIQoyA1SX1nIkc5BoM7vcIzJOF5uftwFXCEiZTjjgNn44VkkqsrZ4RBrFqX3PSrxVtSW8NzhTkZCEQrzUrdKz5h05HnMDVXtt4SSfQZGw0SiSmUGNNLHrF5YSlThYPuA36EYk3HScyAnM2+6h8aAzOj5FbOkqoiS/BwOtNn8KsYkmiUVM62zQ0534urizGhTAQiIcMnCUg61DxCORP0Ox5iMMmNScSe0ujd+LniTPXqGQgQEygvTc8j7qaxZVMZYOMrRLusFZkwieblSuQtYDLwkIo+LyDslE/qWGk96hkKUF+YSDGTWR75iQQl5OQH2nLJmQmMSacakoqrNqvoZYBXwKPAwcEJE/puIVCU7QOOvnqFQRrWnxOQGA84Uw6f6GLcqMGMSxlObiohcDnwF+Dvgh8AfAf3Ar5IXmkkFTlLJnPaUeOuXVTAWjrLfGuyNSZgZ71MRkV1AL/Ad4H5VHXM3vSAiN0xZ0KS9sfEIQ6FIRl6pgHN3fXlhLq+cOMsVSyr8DseYjODljvo/dmd7PI+qvjvB8ZgUkkkDSU4mIML6ZRU8c7CTs8MhKtN4ZktjUoWX6q//KCIVsRciUikif5u8kEyq6BnK7KQCcE2D0yz4wpEenyMxJjN4SSq3qWpv7IWqnsWZV95kuHNJJYN/wVcU5bFmcRkvHeshFLYGe2MulJekEhSRcy21IlIIZGbLrXmTnqEQhbnBjB8f6y0rahgZj7D7ZK/foRiT9rwklX8GfikiHxWRjwBPAd9LblgmFWRqd+KJGqqLqK8o5LnDnUR1yslOjTEeeLlP5UvAF4DVwFrgv7vrZiQit4rIQRFpFpH7J9kuIvKAu32PiFw5U1kR+YGI7HaXYyKy213fICIjcdu2eonRTC1bkoqIcNOqWrqHQuw7bd2LjbkQXnp/oao/A342mwOLSBD4JnAL0IpzR/42Vd0ft9ttQJO7XAs8CFw7XVlVfW/ce3wFZ36XmBZVXTebOM3koqr0Do9zaX2536HMi7WLy6gpyePpgx1curgsIyYkM8YPXsb+ereIHBaRPhHpF5EBEfHyc+4aoFlVj6hqCHgc2DRhn03AI+rYAVSIyCIvZd2hYt4DPOYhFjNLfSPjRFQzupE+XkCEm5pqaesb5XDHoN/hGJO2vLSpfAm4U1XLVbVMVUtVtcxDuXrgZNzrVnedl328lN0ItKvq4bh1jSLyiog8IyIbJwtKRO5xB8nc2dnZ6eE0stO5nl8l2ZFUANYtq6C8MJenD9r/C2PmyktSaVfVA3M49mT1BxNbQafax0vZzbz5KqUNWKaq64FPAo+6s1W++SCqD6nqBlXdUFtbO2Xw2e5sFnQnnignEODGlTUc6x7ieLeNXmzMXHhJKjvdxvHNblXYu0XEy530rcDSuNdLgNMe95m2rIjkAO8GfhBbp6pjqtrtPt8FtOAMgmnmIDbkfVmGDXk/k6sbqijKC9rVijFz5CWplAHDwDuA33eXOzyUewloEpFGEcnDGUJ/24R9tgEfdHuBXQf0qWqbh7JvB15X1dbYChGpdRv4EZHlOI3/kw4vY2bWPRSioigv44a8n0leToC3rKjmYPsAbX0jfodjTNqZsfeXqt49lwOralhE7gOeBILAw6q6T0S2uNu3Attx7s5vxklcd09XNu7wd3F+A/1NwOdFJAxEgC2qamNvzFHPUIiaLGpPiXf98hqePdzFM4c6uevqZX6HY0xa8TJK8Sqcrr51qnqpOwz+nao64/hfqrodJ3HEr9sa91yBe72Wjdv24UnW/RBnWH5zgVSV7qExllZl52SfhXlBrm2s4jeHu7hl9RjVJTaAhDFeean++jbwaWAcQFX34FwpmAw1HIowOh6lOgtufJzKDStrCAaEZw93+R2KMWnFS1IpUtUXJ6wLJyMYkxq6B50pc6qztPoLoKwglyuXVfLyibP0j4z7HY4xacNLUukSkRW4XXpF5I9wuu+aDNXtdieuztAZH73a2FRDNKo832JXK8Z45SWp3Av8b+ASETkFfAL4s2QGZfzVPRRCgMqi7OpOPFF1ST5rFpex6/hZwjaPvTGeeBlQ8oiqvh2oBS5R1RtV9VjSIzO+6R4co6Iol5ygl98cme3qhiqGQxEOnBnwOxRj0oKX3l9/PeE1AKr6+STFZHzWPRTK+qqvmJULSqgozOWlYz1cliWDaxpzIbz8FB2KWyI4Iws3JDEm47PuwVBWjfk1nYAIVzVU0twxeG7oGmPM1Lzc/PiV+Nci8mXOvzPeZIjhUJiR8UhWdyee6MqllfzyQAd7Wnv9DsWYlDeXSvMiYHmiAzGpocd6fp2nsjiPpZWFvNraN/POxmQ5L/OpvObOyrhHRPYBB4GvJz8044fuQTepWPXXm1yxtIIz/aMcbrcGe2Om4+VK5Q7eGEjyHcBiVf1GUqMyvukeGkMgK6YRno3L6ssRYNurEwfaNsbE85JUBuKWEaBMRKpiS1KjM/OuezBEWWEuudad+E1KC3JprC3mZ3vP+B2KMSnNyzfHy0AncAg47D7f5S47kxea8YPTndiuUiazdlEZzR2DtHTadMPGTMVLUvl34PdVtUZVq3Gqw36kqo2qag32GaZ7cMzaU6awepEzkehT+9t9jsSY1OUlqVztDkMPgKr+DLg5eSEZv4yORxgKRazn1xQqivK4rL6cn++zKjBjpuJ1QMnPikiDiFwkIp8BupMdmJl/sYEkrZF+au9YU8crJ3vp6B/1OxRjUpKXpLIZZ9yvH7tLrbvOZBgb8n5mb1tdhyo8fcjmsDdmMl7uqO8BPi4iJapqLZQZzG58nNnqRaUsKM3n2UOdvGfDUr/DMSbleLn58S0ish/Y776+QkS+lfTIzLzrHgxRWpBDXo51J56KiLCxqZbfNHcRiarf4RiTcrx8e3wVeCduO4qqvgrclMygjD86B8fsKsWDmy+upXd43MYCM2YSnn6SqurJCasiXsqJyK0iclBEmkXk/km2i4g84G7fIyJXzlRWRP5GRE6JyG53uT1u26fd/Q+KyDu9xGgcqkrnwBgLSi2pzGTjyhpE4NlDNiOkMRN5SSonReQtgIpInoj8JXBgpkIiEgS+iTNU/hpgs4ismbDbbUCTu9wDPOix7FdVdZ27bHfLrAHuAtYCtwLfco9jPBgcc0YnrrWkMqPK4jwuX1LBM4c6/A7FmJTjJalswZlSuB5oBda5r2dyDdDszhwZAh4HNk3YZxPwiDp2ABUisshj2Yk2AY+r6piqHgWa3eMYDzrdnl+WVLy5uamG3Sd76Rse9zsUY1LKtEnF/aX/NVV9v6rWqeoCVf0TVfVyn0o9EF9t1uqu87LPTGXvc6vLHhaRylm8n5lC54CTVKz6y5ubVtUSVXi+xarAjIk3bVJR1QhQKyJzuXFBJjukx32mK/sgsALniqkNiE0i5uX9EJF7RGSniOzs7LR7DWI6B8bICwYoK8z1O5S0sG5pBaUFOTxz0P4PGRNvxvtUgGPA8yKyDWdKYQBU9e9nKNcKxHfkXwJMHDd8qn3ypiqrqucGXhKRbwM/ncX7oaoPAQ8BbNiwwfqEujoHxqgpzSMgk+VmM1FOMMCNK2t49nAnqorYv5sxgLc2ldM4X9wBoDRumclLQJOINLpXOndx/jTE24APur3ArgP6VLVturJum0vMHwB74451l4jki0gjTuP/ix7iNOD2/CrwO4y0cvOqWtr6RjncYfcEGxMz5ZWKiPyTqn4A6FXVWc/0qKphEbkPeBIIAg+r6j4R2eJu3wpsB27HaVQfBu6erqx76C+JyDqcqq1jwJ+6ZfaJyBM4N2mGgXvd6jszg7FwhN6RcWpKrD1lNm5aVQvAs4c6WVXn5XeWMZlvuuqvq0TkIuAjIvIIE9os3OFbpuV2990+Yd3WuOfKFD3JJivrrv/ANO/3BeALM8Vl3qxrwBmexXp+zc7iikKW1xbzm+Yu/uNGmwXCGJg+qWzFmUtlOc6EXPFJRd31JgOccUfcXVhm1V+zdVNTLY+/dIKxcIT8HLstypgp21RU9QFVXY1T9bTcnZQrtlhCySDt/aPkBMRGJ56DG1fWMDoeZdexs36HYkxKmLGhXlX/bD4CMf450z/KgrJ86/k1B9etqCYnIDzXbPerGAMex/4yme1M3ygLywr9DiMtleTncOWySp47bPerGAOWVLLe4FiYwbEwC8uskX6uNjbVsO90/7lJzozJZpZUsly720hfV26N9HO1cVUtqvB8i82ybYwllSx3ps96fl2oy+rLKS/M5TdWBWaMJZVsd6Z/lOK8ICX5XkbsMZMJBoQbVlbz3OEunFuvjMlellSyXFvfCAvLC2zsqgt040pnyJaWThuyxWQ3SypZLByJ0t43Rn1Fkd+hpL2NTTUAPHfYuhab7GZJJYud6R8lokp9pXUnvlBLq4poqC6ypGKyniWVLHaqdwSAJRWWVBJhY1MtO450EwpH/Q7FGN9YUslip86OUJgbpKLIJuZKhI1NNQyHIrx8woZsMdnLkkoWO9U7wpLKQmukT5DrVlQTDIjdXW+ymiWVLDUeidLeP0q9VX0lTFlBLuuXVli7islqllSyVFvfKFF15gQxiXPzqlr2tPbRMTDqdyjG+MKSSpY60T0EwLJq606cSLesrQPglwc6fI7EGH9YUslSx7qHqSrOo6zAGukT6eK6UpZUFvKL/e1+h2KMLyypZCFV5Vj3EA12lZJwIsIta+r4TXMXw6Gw3+EYM+8sqWShls4hhkMRGqqL/Q4lI92yuo6xcJRnD1mDvck+llSy0M5jPQBcZEklKa5urKKyKJftr7X5HYox8y6pSUVEbhWRgyLSLCL3T7JdROQBd/seEblyprIi8nci8rq7/49FpMJd3yAiIyKy2122JvPc0tmLx3oozgtSY3PSJ0VuMMBtly3iqf3tVgVmsk7SkoqIBIFvArcBa4DNIrJmwm63AU3ucg/woIeyTwGXqurlwCHg03HHa1HVde6yJTlnlt5UlR0t3TTUFNtNj0l05xWLGRmPWC8wk3WSeaVyDdCsqkdUNQQ8DmyasM8m4BF17AAqRGTRdGVV9eeqGvv5twNYksRzyDgtnYOc7hulaUGp36FktKsbqqgry2fbq6f9DsWYeZXMpFIPnIx73equ87KPl7IAHwF+Fve6UUReEZFnRGTjZEGJyD0islNEdnZ2Zt9wGk8fdM65qa7E50gyWzAg3HH5Yp4+2EGXzV1vskgyp/ubrG5l4rR4U+0zY1kR+QwQBr7vrmoDlqlqt4hcBfyriKxV1f43HUT1IeAhgA0bNmTdNH3PHOpk5YISKousPWUuHn3hhOd9S/JzGI8on/3xXm5aVTvr93rftctmXcYYvyXzSqUVWBr3egkwsS5gqn2mLSsiHwLuAN6v7vytqjqmqt3u811AC7AqIWeSIUZCEV442sNNTbP/gjOzV1dWQEN1ES8e6yFq0wybLJHMpPIS0CQijSKSB9wFbJuwzzbgg24vsOuAPlVtm66siNwKfAq4U1WHYwcSkVq3gR8RWY7T+H8kieeXdmJzfdy0qsbvULLGNY3V9AyFaOmwaYZNdkhaUnEb0+8DngQOAE+o6j4R2SIisZ5Z23G++JuBbwN/Pl1Zt8w3gFLgqQldh28C9ojIq8C/AFtUtSdZ55eOtr/WRml+DtevqPY7lKxx6eIySvJzbORikzWS2aaCqm7HSRzx67bGPVfgXq9l3fUrp9j/h8APLyTeTBYKR3ly3xluWVtHfk7Q73CyRk4wwMamGn629wzHu4fshlOT8eyO+izxfHMX/aNh7rh8kd+hZJ1rG6spzgvyq9ftnhWT+SypZImf7mmjtCCHG1daI/18y8sJcNOqWg53DPL6mf6ZCxiTxiypZIHBsTD/vreNW9cuJC/HPnI/XL+imgWlzs2QoXDU73CMSRr7hskCP9l9iqFQhM1234NvcgIBNq2rp3d4nJ/ttYEmTeaypJLhVJV/3nGC1YvKWL+0wu9wslpjTTEbV9bwwtEedh23jokmM1lSyXCvnOzlQFs/7792mQ0gmQLesXYhK2qL+dfdpznQZu0rJvNYUslwW59uoawgh3etn2zoNDPfggHhfddcxKLyAr7/wnF2n+z1OyRjEsqSSgbbf7qfn+9v5yM3NlKSn9RbkswsFOYF+cgNjSyrKuaJnSf5tz2nCUet8d5kBksqGewffnWY0vwc7n5Lo9+hmAkKcoN85MYGrl9ezfMt3Wx9uoWO/lG/wzLmgllSyVAvHu3hZ3vPcPeNjZQX5fodjplETiDA71+xmD+59iJ6R8b5xq+b+d2RbtQGnzRpzOpEMlA4EuWvf7KXxeUFbLl5ud/hmBmsWVzG0qomfvhyK//v1dMcPNPPH15pc8+Z9GRXKhnou789xutnBvj/7lhDUZ79bkgHpQW5fOj6Bu68YjFHOof4+i8P8+S+M36HZcysWVLJMAfa+vnSvx/k7avruPXShX6HY2ZBRLhueTX3/YeVVBTl8qf/tIv7f7iHobHwzIWNSRH2MzaDDI6F+dhjr1BelMv/+sPL7L6UNLWgrIAtN6/gTN8oDz7Two4j3fzD5iu5bEm536EZMyO7UskQ4UiUv3j0ZY50DfG1966juiTf75DMBcgJBPivt17C4//pOsbCUd794PP843NHrBHfpDxLKhkgGlX+6sev8euDnXx+01puWGkzO2aKa5dXs/1jG3nrxQv42387wIf+z0u0nh2euaAxPrGkkubGI1H+y7/s4YmdrXzsbU28/9qL/A7JJFhlcR4PfeAq/vumtew81sM7vvosX/vFIQZGx/0OzZjzWJtKGuseHOPeR19mx5EePnnLKj72tia/QzJJIiJ84PoGfm91HX/70/187ReH+c5vjvLu9fW889KFXHVRpc3oaVKCZHMd7YYNG3Tnzp1+h3HOoy+c8LSfqrLvdD8/efU0Y+MR/mB9PeuXVSY5OpNKWs8O83xzF3tP9xOJKgGByqI8CnKDBAQCASESVcYjUcYjyng4SkSV/JwAhXlBivNyqC3Np66sgA9cfxGrF5ZRmGdJyXgjIrtUdcNk2+xKJY1EVWnpHORXr3dwvHuYxeUF/OENDSwqL/Q7NDPPllQW8d6rl7FpPMLRriFO9gzTNRRiPBwlqkokquTnBcgN5pIbDJAbDBAQGAtHGQlFGBwLs/PYWUKRKD9+5RTBgNC0oITL6su5fEk5lywqo6G6mJqSPOtFaGbFkkqKGw6FOdU7QkvHIHtP99MzFKI0P4c7r1jM1Q1VBAP2B5/NCnKDrF5UxupFZbMuG1Wld3icVXUl7D3Vx55Tffzq9Q7+767Wc/uU5OewpLKQxRWFLCovYHFFIQvLClhUUcDi8kIWlhdQkGtXOOYNSU0qInIr8HUgCPyjqn5xwnZxt98ODAMfVtWXpysrIlXAD4AG4BjwHlU96277NPBRIAJ8TFWfTOb5JUIkqnQPjtHWN8prp/roHQ7ROzzO2eEQHQNj9AyFAAgILK8p4e2rF3Dp4nJygtbHwlyYgAhVxXm8Y+1C3rHWuVFWVTndN8qh9gGOdw1xrHuYkz3DnO4b5ZUTZzk7fH7ngKriPOorCmmoKaaxuojG2mIaa0porCmmvNDGnZtONKp0Do5xqneEU2dHON07Qv/oOKFwlLFwlGBAKM3PoaQgh6rifJZUFrKk0knsqfodkLQ2FREJAoeAW4BW4CVgs6ruj9vnduAvcJLKtcDXVfXa6cqKyJeAHlX9oojcD1Sq6qdEZA3wGHANsBj4BbBKVSNTxZiINhVVJRzVc/XX4YgyHo0yNh6lf3ScvpFx+kfC9I+M0zk4Rnv/KGf6RmnvH6W9f4zOwTEi0Td/Bvk5ASqL8qgpyaO+soj6Cuc/kv0iNH4LhaP0j4zTNzpO3/A4vSPj9I84P4K6h0KcHQoR/7+5KC9ISX4OJfk5rF5URl5OgGBAyHHbfCJRZTyqRKJO20/s7ygSVcIRJRyNIiKUF+aeWyqK3ngeO3axu5QW5FCUFyQnECAQgKAIwYAkvQov9j06HlFGwxFGQxFGx6MMj4fpGQrRNRiia2CMrsEx2vvHON07wqneEdr6RhiPvPnvPxgQ8nMC5OUEiESVwbEwE7+mgwFhYVkB9ZWF1FcUsqA0nwVlBc5jaT6lBbkU5QUpygtSmBekIDdIUIRAgmo2/GpTuQZoVtUjbhCPA5uA/XH7bAIeUecT2SEiFSKyCOcqZKqym4C3uuW/BzwNfMpd/7iqjgFHRaTZjeF3iT6xPa29vOd//879Tz+7pFxemEtdmdNA2lRXysKygnOv97T2UVmUZw2mJmXl5QSoKc2npnTym2vDkSg9wyG6B0N0DY7RPRRiaCzM4FiYF472nGvviaoSEHE6Fbhf/G88Oh0NYq+jqrT1jTASijAy7nxZz5YI575UY9+rqryRADX2oOe2xa0+lzTeeD3rEACnxqEkP4eKojwqinJpqC6moijXXfKoKMw978djVJV3ra+na2CM1rMjnOodpvXsiLsM8+LRHjoHxghFZv53if93uOOyRfz9e9fN7USmkcykUg+cjHvdinM1MtM+9TOUrVPVNgBVbRORBXHH2jHJsd5ERO4B7nFfDorIQa8nlGQ1QJffQSSQnU/qyqRzATufOfkq8NW75lx8yhvikplUJrvOmpjfp9rHS9m5vB+q+hDw0AzHmncisnOqy8l0ZOeTujLpXMDOJ9Uks6WnFVga93oJcNrjPtOVbXeryHAfO2bxfsYYY5IomUnlJaBJRBpFJA+4C9g2YZ9twAfFcR3Q51ZtTVd2G/Ah9/mHgJ/Erb9LRPJFpBFoAl5M1skZY4w5X9Kqv1Q1LCL3AU/idAt+WFX3icgWd/tWYDtOz69mnC7Fd09X1j30F4EnROSjwAngj90y+0TkCZzG/DBw73Q9v1JQylXJXSA7n9SVSecCdj4pJauHaTHGGJNYqXn3jDHGmLRkScUYY0zCWFJJASJyq4gcFJFmd5SAtCIix0TkNRHZLSI73XVVIvKUiBx2H1N2GGUReVhEOkRkb9y6KeMXkU+7n9VBEXmnP1FPbYrz+RsROeV+Rrvd0Sxi21L2fERkqYj8WkQOiMg+Efm4uz4tP59pzictP59JqaotPi44HRFagOVAHvAqsMbvuGZ5DseAmgnrvgTc7z6/H/hffsc5Tfw3AVcCe2eKH1jjfkb5QKP72QX9PgcP5/M3wF9Osm9Knw+wCLjSfV6KM3zTmnT9fKY5n7T8fCZb7ErFf+eGs1HVEBAbkibdbcIZRgf38V3+hTI9VX0W6Jmweqr4zw0HpKpHcXouXjMfcXo1xflMJaXPR1Xb1B1kVlUHgAM4I2Wk5eczzflMJaXPZzKWVPw31VA16USBn4vILncYHJgwnA6wYMrSqWmq+NP587pPRPa41WOx6qK0OR8RaQDWAy+QAZ/PhPOBNP98Yiyp+G8uQ9KkmhtU9UrgNuBeEbnJ74CSKF0/rweBFcA6oA34irs+Lc5HREqAHwKfUNX+6XadZF06nE9afz7xLKn4L+2Hl1HV0+5jB/BjnMvzqYbTSRcZNRyQqrarakRVo8C3eaMKJeXPR0Rycb6Av6+qP3JXp+3nM9n5pPPnM5ElFf95Gc4mZYlIsYiUxp4D7wD2MvVwOukio4YDin0Bu/4A5zOCFD8fERHgO8ABVf37uE1p+flMdT7p+vlMyu+eArYoOEPVHMLp2fEZv+OZZezLcXqnvArsi8UPVAO/BA67j1V+xzrNOTyGU+UwjvPL8KPTxQ98xv2sDgK3+R2/x/P5J+A1YA/OF9WidDgf4Eac6p49wG53uT1dP59pzictP5/JFhumxRhjTMJY9ZcxxpiEsaRijDEmYSypGGOMSRhLKsYYYxLGkooxxpiEsaRijM9EZHDC6w+LyDfc5/Gj1+4VkTv9idIYbyypGJP6vqqq63Cmzn5YROzv1qQs+89pTJpQ1QNAGKjxOxZjppLjdwDGGApFZHfc6yomGapHRK4FokDnPMVlzKxZUjHGfyNu9RbgtKkAG+K2/2cR+RNgAHiv2jAYJoVZUjEm9X1VVb/sdxDGeGFtKsYYYxLGkooxxpiEsVGKjTHGJIxdqRhjjEkYSyrGGGMSxpKKMcaYhLGkYowxJmEsqRhjjEkYSyrGGGMSxpKKMcaYhPn/AQxr9bSgB8zfAAAAAElFTkSuQmCC\n",
      "text/plain": [
       "<Figure size 432x288 with 1 Axes>"
      ]
     },
     "metadata": {
      "needs_background": "light"
     },
     "output_type": "display_data"
    },
    {
     "name": "stderr",
     "output_type": "stream",
     "text": [
      "C:\\ProgramData\\Anaconda3\\lib\\site-packages\\seaborn\\distributions.py:2557: FutureWarning: `distplot` is a deprecated function and will be removed in a future version. Please adapt your code to use either `displot` (a figure-level function with similar flexibility) or `histplot` (an axes-level function for histograms).\n",
      "  warnings.warn(msg, FutureWarning)\n"
     ]
    },
    {
     "data": {
      "image/png": "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\n",
      "text/plain": [
       "<Figure size 432x288 with 1 Axes>"
      ]
     },
     "metadata": {
      "needs_background": "light"
     },
     "output_type": "display_data"
    },
    {
     "name": "stderr",
     "output_type": "stream",
     "text": [
      "C:\\ProgramData\\Anaconda3\\lib\\site-packages\\seaborn\\distributions.py:2557: FutureWarning: `distplot` is a deprecated function and will be removed in a future version. Please adapt your code to use either `displot` (a figure-level function with similar flexibility) or `histplot` (an axes-level function for histograms).\n",
      "  warnings.warn(msg, FutureWarning)\n"
     ]
    },
    {
     "data": {
      "image/png": "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\n",
      "text/plain": [
       "<Figure size 432x288 with 1 Axes>"
      ]
     },
     "metadata": {
      "needs_background": "light"
     },
     "output_type": "display_data"
    },
    {
     "name": "stderr",
     "output_type": "stream",
     "text": [
      "C:\\ProgramData\\Anaconda3\\lib\\site-packages\\seaborn\\distributions.py:2557: FutureWarning: `distplot` is a deprecated function and will be removed in a future version. Please adapt your code to use either `displot` (a figure-level function with similar flexibility) or `histplot` (an axes-level function for histograms).\n",
      "  warnings.warn(msg, FutureWarning)\n"
     ]
    },
    {
     "data": {
      "image/png": "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\n",
      "text/plain": [
       "<Figure size 432x288 with 1 Axes>"
      ]
     },
     "metadata": {
      "needs_background": "light"
     },
     "output_type": "display_data"
    },
    {
     "name": "stderr",
     "output_type": "stream",
     "text": [
      "C:\\ProgramData\\Anaconda3\\lib\\site-packages\\seaborn\\distributions.py:2557: FutureWarning: `distplot` is a deprecated function and will be removed in a future version. Please adapt your code to use either `displot` (a figure-level function with similar flexibility) or `histplot` (an axes-level function for histograms).\n",
      "  warnings.warn(msg, FutureWarning)\n"
     ]
    },
    {
     "data": {
      "image/png": "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\n",
      "text/plain": [
       "<Figure size 432x288 with 1 Axes>"
      ]
     },
     "metadata": {
      "needs_background": "light"
     },
     "output_type": "display_data"
    },
    {
     "name": "stderr",
     "output_type": "stream",
     "text": [
      "C:\\ProgramData\\Anaconda3\\lib\\site-packages\\seaborn\\distributions.py:2557: FutureWarning: `distplot` is a deprecated function and will be removed in a future version. Please adapt your code to use either `displot` (a figure-level function with similar flexibility) or `histplot` (an axes-level function for histograms).\n",
      "  warnings.warn(msg, FutureWarning)\n"
     ]
    },
    {
     "data": {
      "image/png": "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\n",
      "text/plain": [
       "<Figure size 432x288 with 1 Axes>"
      ]
     },
     "metadata": {
      "needs_background": "light"
     },
     "output_type": "display_data"
    }
   ],
   "source": [
    "for col in df1.columns:\n",
    "    sns.distplot(x=df1[col],bins=10)\n",
    "    plt.xlabel(col)\n",
    "    plt.ylabel(\"frequency distribution\")\n",
    "    plt.show()"
   ]
  },
  {
   "cell_type": "markdown",
   "id": "da3fd4cf",
   "metadata": {},
   "source": [
    "**The distplot gives us a picture about the density distribution of 'Total' variable of the pokemon data set and we can conclude from the plot that the values of 'Total' attribute are not actually starting from 0 and not exactly ending at 900 which are the x-limits of the plot.\n",
    "\n",
    "**The distplot of 'HP' gives a picture of how the 'Hp' attribute of Pokemon data is distributed over the density .We can conclude from the graph that in x-limits the graph is starting from the value<0 but value>0.0000 means it is somewhat falling in between the range (0,0.0000). And in Y-limits the peak of the graph ranges from value >0.0150.\n",
    "\n",
    "** The distplot for 'Attack' variable is spread over the x limits greater than 0.000 till a value greater than 200 .And maximum value is obtained in the zone (0,50).\n",
    "\n",
    "** The distplot for 'Defense' variable is spread over the x limits greater than 0.000 till a value greater than 250 .And maximum value is obtained in the zone (50,100).\n",
    "\n",
    "** The distplot for 'Sp. Atk' variable is spread over the x limits greater than 0.000 till a value greater than 200 .And maximum value is obtained in the zone (0,70).\n",
    "\n",
    "** The distplot for 'Sp. Def' variable is spread over the x limits slightly equal to 0 till a value tending towards 250 .And maximum value is obtained in the zone (20,70).\n",
    "\n",
    "** The distplot for 'Speed' variable is spread over the x limits greater than 0.000 till a value slightly greater than 200 .And maximum value is obtained in the zone (0,70)."
   ]
  },
  {
   "cell_type": "markdown",
   "id": "26a560c6",
   "metadata": {},
   "source": [
    "# 4. Spread of the data:"
   ]
  },
  {
   "cell_type": "markdown",
   "id": "333687c7",
   "metadata": {},
   "source": [
    "The spread of the data can be identified by three ways which are - Range, Interquartile Range and Variance out of which the range is the easiest way to find the spread of the data-set.Range is the difference between the highest and lowest values in a data set.\n",
    "\n",
    "Interquartile range is a value that is the difference between the upper quartile value and the lower quartile value. For this method we will have to find each quartile in the data set. To find the quartiles, we follow these steps:\n",
    "Order the data from least to greatest.\n",
    "Find the median of the data set, and divide the data set into two halves.\n",
    "Find the median of the two halves.\n",
    "\n",
    "Variance is how far a set of numbers are spread out. To find variance, we follow these steps:\n",
    "Find the mean of the set of data.\n",
    "Subtract each number from the mean.\n",
    "Square the result.\n",
    "Add the numbers together.\n",
    "Divide the result by the total number of numbers in the data set.\n"
   ]
  },
  {
   "cell_type": "code",
   "execution_count": 4,
   "id": "d82f3af1",
   "metadata": {},
   "outputs": [
    {
     "data": {
      "text/html": [
       "<div>\n",
       "<style scoped>\n",
       "    .dataframe tbody tr th:only-of-type {\n",
       "        vertical-align: middle;\n",
       "    }\n",
       "\n",
       "    .dataframe tbody tr th {\n",
       "        vertical-align: top;\n",
       "    }\n",
       "\n",
       "    .dataframe thead th {\n",
       "        text-align: right;\n",
       "    }\n",
       "</style>\n",
       "<table border=\"1\" class=\"dataframe\">\n",
       "  <thead>\n",
       "    <tr style=\"text-align: right;\">\n",
       "      <th></th>\n",
       "      <th>Total</th>\n",
       "      <th>HP</th>\n",
       "      <th>Attack</th>\n",
       "      <th>Defense</th>\n",
       "      <th>Sp. Atk</th>\n",
       "      <th>Sp. Def</th>\n",
       "      <th>Speed</th>\n",
       "    </tr>\n",
       "  </thead>\n",
       "  <tbody>\n",
       "    <tr>\n",
       "      <th>0</th>\n",
       "      <td>318</td>\n",
       "      <td>45</td>\n",
       "      <td>49</td>\n",
       "      <td>49</td>\n",
       "      <td>65</td>\n",
       "      <td>65</td>\n",
       "      <td>45</td>\n",
       "    </tr>\n",
       "    <tr>\n",
       "      <th>1</th>\n",
       "      <td>405</td>\n",
       "      <td>60</td>\n",
       "      <td>62</td>\n",
       "      <td>63</td>\n",
       "      <td>80</td>\n",
       "      <td>80</td>\n",
       "      <td>60</td>\n",
       "    </tr>\n",
       "    <tr>\n",
       "      <th>2</th>\n",
       "      <td>525</td>\n",
       "      <td>80</td>\n",
       "      <td>82</td>\n",
       "      <td>83</td>\n",
       "      <td>100</td>\n",
       "      <td>100</td>\n",
       "      <td>80</td>\n",
       "    </tr>\n",
       "    <tr>\n",
       "      <th>3</th>\n",
       "      <td>625</td>\n",
       "      <td>80</td>\n",
       "      <td>100</td>\n",
       "      <td>123</td>\n",
       "      <td>122</td>\n",
       "      <td>120</td>\n",
       "      <td>80</td>\n",
       "    </tr>\n",
       "    <tr>\n",
       "      <th>4</th>\n",
       "      <td>309</td>\n",
       "      <td>39</td>\n",
       "      <td>52</td>\n",
       "      <td>43</td>\n",
       "      <td>60</td>\n",
       "      <td>50</td>\n",
       "      <td>65</td>\n",
       "    </tr>\n",
       "    <tr>\n",
       "      <th>...</th>\n",
       "      <td>...</td>\n",
       "      <td>...</td>\n",
       "      <td>...</td>\n",
       "      <td>...</td>\n",
       "      <td>...</td>\n",
       "      <td>...</td>\n",
       "      <td>...</td>\n",
       "    </tr>\n",
       "    <tr>\n",
       "      <th>795</th>\n",
       "      <td>600</td>\n",
       "      <td>50</td>\n",
       "      <td>100</td>\n",
       "      <td>150</td>\n",
       "      <td>100</td>\n",
       "      <td>150</td>\n",
       "      <td>50</td>\n",
       "    </tr>\n",
       "    <tr>\n",
       "      <th>796</th>\n",
       "      <td>700</td>\n",
       "      <td>50</td>\n",
       "      <td>160</td>\n",
       "      <td>110</td>\n",
       "      <td>160</td>\n",
       "      <td>110</td>\n",
       "      <td>110</td>\n",
       "    </tr>\n",
       "    <tr>\n",
       "      <th>797</th>\n",
       "      <td>600</td>\n",
       "      <td>80</td>\n",
       "      <td>110</td>\n",
       "      <td>60</td>\n",
       "      <td>150</td>\n",
       "      <td>130</td>\n",
       "      <td>70</td>\n",
       "    </tr>\n",
       "    <tr>\n",
       "      <th>798</th>\n",
       "      <td>680</td>\n",
       "      <td>80</td>\n",
       "      <td>160</td>\n",
       "      <td>60</td>\n",
       "      <td>170</td>\n",
       "      <td>130</td>\n",
       "      <td>80</td>\n",
       "    </tr>\n",
       "    <tr>\n",
       "      <th>799</th>\n",
       "      <td>600</td>\n",
       "      <td>80</td>\n",
       "      <td>110</td>\n",
       "      <td>120</td>\n",
       "      <td>130</td>\n",
       "      <td>90</td>\n",
       "      <td>70</td>\n",
       "    </tr>\n",
       "  </tbody>\n",
       "</table>\n",
       "<p>800 rows × 7 columns</p>\n",
       "</div>"
      ],
      "text/plain": [
       "     Total  HP  Attack  Defense  Sp. Atk  Sp. Def  Speed\n",
       "0      318  45      49       49       65       65     45\n",
       "1      405  60      62       63       80       80     60\n",
       "2      525  80      82       83      100      100     80\n",
       "3      625  80     100      123      122      120     80\n",
       "4      309  39      52       43       60       50     65\n",
       "..     ...  ..     ...      ...      ...      ...    ...\n",
       "795    600  50     100      150      100      150     50\n",
       "796    700  50     160      110      160      110    110\n",
       "797    600  80     110       60      150      130     70\n",
       "798    680  80     160       60      170      130     80\n",
       "799    600  80     110      120      130       90     70\n",
       "\n",
       "[800 rows x 7 columns]"
      ]
     },
     "execution_count": 4,
     "metadata": {},
     "output_type": "execute_result"
    }
   ],
   "source": [
    "df1=df.iloc[:,4:11]\n",
    "df1"
   ]
  },
  {
   "cell_type": "code",
   "execution_count": 38,
   "id": "de89c40d",
   "metadata": {},
   "outputs": [
    {
     "name": "stdout",
     "output_type": "stream",
     "text": [
      "Total\n",
      "HP\n",
      "Attack\n",
      "Defense\n",
      "Sp. Atk\n",
      "Sp. Def\n",
      "Speed\n"
     ]
    }
   ],
   "source": [
    "for col in df1.columns:\n",
    "    print(col)"
   ]
  },
  {
   "cell_type": "code",
   "execution_count": 42,
   "id": "ca3a28d1",
   "metadata": {},
   "outputs": [
    {
     "name": "stdout",
     "output_type": "stream",
     "text": [
      "Quantiles for Total are -> [330.0, 450.0, 515.0]\n",
      "Quantiles for HP are -> [50.0, 65.0, 80.0]\n",
      "Quantiles for Attack are -> [55.0, 75.0, 100.0]\n",
      "Quantiles for Defense are -> [50.0, 70.0, 90.0]\n",
      "Quantiles for Sp. Atk are -> [49.25, 65.0, 95.0]\n",
      "Quantiles for Sp. Def are -> [50.0, 70.0, 90.0]\n",
      "Quantiles for Speed are -> [45.0, 65.0, 90.0]\n"
     ]
    }
   ],
   "source": [
    "for col in df1.columns:\n",
    "    print(\"Quantiles for\" ,col, \"are ->\" ,statistics.quantiles(df1[col]))"
   ]
  },
  {
   "cell_type": "code",
   "execution_count": 53,
   "id": "f173a42d",
   "metadata": {},
   "outputs": [
    {
     "name": "stdout",
     "output_type": "stream",
     "text": [
      "Range for Total are -> 600\n",
      "Interquartile-Range for Total are -> 185.0\n",
      "Range for HP are -> 254\n",
      "Interquartile-Range for HP are -> 30.0\n",
      "Range for Attack are -> 185\n",
      "Interquartile-Range for Attack are -> 45.0\n",
      "Range for Defense are -> 225\n",
      "Interquartile-Range for Defense are -> 40.0\n",
      "Range for Sp. Atk are -> 184\n",
      "Interquartile-Range for Sp. Atk are -> 45.25\n",
      "Range for Sp. Def are -> 210\n",
      "Interquartile-Range for Sp. Def are -> 40.0\n",
      "Range for Speed are -> 175\n",
      "Interquartile-Range for Speed are -> 45.0\n"
     ]
    }
   ],
   "source": [
    "for col in df1.columns:\n",
    "    print(\"Range for\" ,col, \"are ->\" ,max(df1[col])-min(df1[col]))\n",
    "    print(\"Interquartile-Range for\" ,col, \"are ->\" ,df1[col].quantile(0.75)-df1[col].quantile(0.25))"
   ]
  },
  {
   "cell_type": "markdown",
   "id": "dfe295b1",
   "metadata": {},
   "source": [
    "# observations(Range + Interquartile Range)\n",
    " \n",
    "** In terms of range the spread of the data is maximum for 'Total' with a range of 600. And in terms of interquartile range also the spread of the data is the maximum for 'Total'.\n",
    "** So we can say large spread of data is seen in variable 'Total'.\n",
    "\n",
    "** Variable 'HP' has second large value of range (254) but the least value of Interquartile range . So spread of the data will be least for variable 'HP'.\n",
    "\n",
    "** All the other variables will be seen in between 'Total'(most spread variable) and 'HP'(least spread variable).\n",
    "\n",
    "** The second large spread of data will be seen by variable 'Attack' with range(185) and Interquartile Range(45.0).\n",
    "\n",
    "** The third in the category of spread of data will be variable 'Sp.Atk'.\n",
    "\n",
    "** After 'Sp.Atk' the large spread will be observed by 'Speed'.\n",
    "\n",
    "** And the second last in terms of spread of data will be 'Sp. Def'."
   ]
  },
  {
   "cell_type": "code",
   "execution_count": 55,
   "id": "f2092af7",
   "metadata": {},
   "outputs": [
    {
     "name": "stdout",
     "output_type": "stream",
     "text": [
      "Variance for Total are -> 14391.130907384233\n",
      "Variance for HP are -> 652.0193225907373\n",
      "Variance for Attack are -> 1053.4805991864816\n",
      "Variance for Defense are -> 972.410707133917\n",
      "Variance for Sp. Atk are -> 1070.748535669585\n",
      "Variance for Sp. Def are -> 774.4485544430531\n",
      "Variance for Speed are -> 844.5111326658338\n"
     ]
    }
   ],
   "source": [
    "for col in df1.columns:\n",
    "    print(\"Variance for\" ,col, \"are ->\" ,df1[col].var())"
   ]
  },
  {
   "cell_type": "markdown",
   "id": "70fe1289",
   "metadata": {},
   "source": [
    "# observations(Variance)\n",
    " \n",
    "** spread of data is the most for the variable 'Total'\n",
    "\n",
    "** spread of data is the least for variable 'HP'\n",
    "\n",
    "** All other variables will be seen in between 'Total' and 'HP'.\n",
    "\n",
    "** The second large spread of data will be seen by 'Attack'.\n",
    "\n",
    "** After 'Attack' 'Sp.Atk' will spread the large value of data.\n",
    " \n",
    "** After that 'Def' will be the there in terms of spread of data.\n",
    "\n",
    "** And then 'Speed' and 'Sp. Def' respectively.\n",
    "\n",
    "*** NOTE- Among the three measures of data spread ; VARIANCE is the best and the precise way to find the spread of the data as i takes into account the mean as well as (mean)^2 value and hence it has high precision. \n",
    "Among these three ways to measure spread Range stands on the third position in terms of accuracy and precision as it takes in account just the maximum and the minimum value and hence significant level of precision is not achieved and can cause error also."
   ]
  },
  {
   "cell_type": "code",
   "execution_count": 20,
   "id": "26e00868",
   "metadata": {},
   "outputs": [
    {
     "data": {
      "text/plain": [
       "{'whiskers': [<matplotlib.lines.Line2D at 0x20dc0a448e0>,\n",
       "  <matplotlib.lines.Line2D at 0x20dc0a44c40>,\n",
       "  <matplotlib.lines.Line2D at 0x20dc0a5c100>,\n",
       "  <matplotlib.lines.Line2D at 0x20dc0a5c460>,\n",
       "  <matplotlib.lines.Line2D at 0x20dc0a688e0>,\n",
       "  <matplotlib.lines.Line2D at 0x20dc0a68c40>,\n",
       "  <matplotlib.lines.Line2D at 0x20dc0a81100>,\n",
       "  <matplotlib.lines.Line2D at 0x20dc0a81460>,\n",
       "  <matplotlib.lines.Line2D at 0x20dc0a8c8e0>,\n",
       "  <matplotlib.lines.Line2D at 0x20dc0a8cc40>,\n",
       "  <matplotlib.lines.Line2D at 0x20dc0aa5100>,\n",
       "  <matplotlib.lines.Line2D at 0x20dc0aa5460>,\n",
       "  <matplotlib.lines.Line2D at 0x20dc0aaf8e0>,\n",
       "  <matplotlib.lines.Line2D at 0x20dc0aafc40>],\n",
       " 'caps': [<matplotlib.lines.Line2D at 0x20dc0a44fa0>,\n",
       "  <matplotlib.lines.Line2D at 0x20dc0a4f340>,\n",
       "  <matplotlib.lines.Line2D at 0x20dc0a5c7c0>,\n",
       "  <matplotlib.lines.Line2D at 0x20dc0a5cb20>,\n",
       "  <matplotlib.lines.Line2D at 0x20dc0a68fa0>,\n",
       "  <matplotlib.lines.Line2D at 0x20dc0a73340>,\n",
       "  <matplotlib.lines.Line2D at 0x20dc0a817c0>,\n",
       "  <matplotlib.lines.Line2D at 0x20dc0a81b20>,\n",
       "  <matplotlib.lines.Line2D at 0x20dc0a8cfa0>,\n",
       "  <matplotlib.lines.Line2D at 0x20dc0a98340>,\n",
       "  <matplotlib.lines.Line2D at 0x20dc0aa57c0>,\n",
       "  <matplotlib.lines.Line2D at 0x20dc0aa5b20>,\n",
       "  <matplotlib.lines.Line2D at 0x20dc0aaffa0>,\n",
       "  <matplotlib.lines.Line2D at 0x20dc0abd340>],\n",
       " 'boxes': [<matplotlib.lines.Line2D at 0x20dc0a44580>,\n",
       "  <matplotlib.lines.Line2D at 0x20dc0a4fd60>,\n",
       "  <matplotlib.lines.Line2D at 0x20dc0a68580>,\n",
       "  <matplotlib.lines.Line2D at 0x20dc0a73d60>,\n",
       "  <matplotlib.lines.Line2D at 0x20dc0a8c580>,\n",
       "  <matplotlib.lines.Line2D at 0x20dc0a98d60>,\n",
       "  <matplotlib.lines.Line2D at 0x20dc0aaf580>],\n",
       " 'medians': [<matplotlib.lines.Line2D at 0x20dc0a4f6a0>,\n",
       "  <matplotlib.lines.Line2D at 0x20dc0a5ce80>,\n",
       "  <matplotlib.lines.Line2D at 0x20dc0a736a0>,\n",
       "  <matplotlib.lines.Line2D at 0x20dc0a81e80>,\n",
       "  <matplotlib.lines.Line2D at 0x20dc0a986a0>,\n",
       "  <matplotlib.lines.Line2D at 0x20dc0aa5e80>,\n",
       "  <matplotlib.lines.Line2D at 0x20dc0abd6a0>],\n",
       " 'fliers': [<matplotlib.lines.Line2D at 0x20dc0a4fa00>,\n",
       "  <matplotlib.lines.Line2D at 0x20dc0a68220>,\n",
       "  <matplotlib.lines.Line2D at 0x20dc0a73a00>,\n",
       "  <matplotlib.lines.Line2D at 0x20dc0a8c220>,\n",
       "  <matplotlib.lines.Line2D at 0x20dc0a98a00>,\n",
       "  <matplotlib.lines.Line2D at 0x20dc0aaf220>,\n",
       "  <matplotlib.lines.Line2D at 0x20dc0abda00>],\n",
       " 'means': []}"
      ]
     },
     "execution_count": 20,
     "metadata": {},
     "output_type": "execute_result"
    },
    {
     "data": {
      "image/png": "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\n",
      "text/plain": [
       "<Figure size 720x1008 with 1 Axes>"
      ]
     },
     "metadata": {
      "needs_background": "light"
     },
     "output_type": "display_data"
    }
   ],
   "source": [
    "data_to_plot=df1\n",
    "plt.figure(figsize=(10,14))\n",
    "plt.boxplot(data_to_plot)"
   ]
  },
  {
   "cell_type": "markdown",
   "id": "203f8ef8",
   "metadata": {},
   "source": [
    "# 5. Interpretation of kurtosis & Skewness of each feature:\n",
    "\n",
    "Kurtosis is a measure of whether the data is heavy-tailed or light-tailed relative to a normal distribution. That is, data sets with high kurtosis tend to have heavy tails, or outliers. Data sets with low kurtosis tend to have light tails, or lack of outliers. A uniform distribution would be the extreme case.\n",
    "Whereas Skewness is a measure of symmetry, or more precisely, the lack of symmetry. A distribution, or data set, is symmetric if it looks the same to the left and right of the center point.\n",
    "In Kurtosis if kurt value of the attribute is greater than 1 it is Laptokurtic.\n",
    "If kurt value of the attribute is less than -1 it is Platikurtic.\n",
    "And if the value of the attribute lies in the range of (-1,1) it is Mesokurtic.\n"
   ]
  },
  {
   "cell_type": "code",
   "execution_count": 49,
   "id": "ed0a6b79",
   "metadata": {},
   "outputs": [
    {
     "data": {
      "text/plain": [
       "#            -1.165705\n",
       "Total        -0.507461\n",
       "HP            7.232078\n",
       "Attack        0.169717\n",
       "Defense       2.726260\n",
       "Sp. Atk       0.297894\n",
       "Sp. Def       1.628394\n",
       "Speed        -0.236437\n",
       "Generation   -1.239576\n",
       "Legendary     7.450100\n",
       "dtype: float64"
      ]
     },
     "execution_count": 49,
     "metadata": {},
     "output_type": "execute_result"
    }
   ],
   "source": [
    "df.kurt()"
   ]
  },
  {
   "cell_type": "markdown",
   "id": "05d44c1f",
   "metadata": {},
   "source": [
    "# Observations\n",
    "*In Pokemon Dataset '#' is Platikurtic as it is less than -1.\n",
    "\n",
    "*In Pokemon Dataset 'Total' is Mesokurtic as it lies in the range (-1,1).\n",
    "\n",
    "*In Pokemon Dataset 'HP' is Laptokurtic as it is greater than 1.\n",
    "\n",
    "*In Pokemon Dataset 'Attack' is Mesokurtic as it lies in the range (-1,1).\n",
    "\n",
    "*In Pokemon Dataset 'Defense' is Laptokurtic as it is greater than 1.\n",
    "\n",
    "*In Pokemon Dataset 'Sp.Atk' is Mesokurtic as it lies in the range (-1,1).\n",
    "\n",
    "*In Pokemon Dataset 'Sp.Def' is Laptokurtic as it is less greater than 1.\n",
    "\n",
    "*In Pokemon Dataset 'Speed' is Platikurtic as it is less than -1.\n",
    "\n",
    "*In Pokemon Dataset 'Generation' is Platikurtic as it is less than -1.\n",
    "\n",
    "*In Pokemon Dataset 'Legendary' is Laptokurtic as it is greater than 1.\n"
   ]
  },
  {
   "cell_type": "code",
   "execution_count": 4,
   "id": "c7ab8feb",
   "metadata": {},
   "outputs": [
    {
     "data": {
      "text/plain": [
       "#            -0.001123\n",
       "Total         0.152530\n",
       "HP            1.568224\n",
       "Attack        0.551614\n",
       "Defense       1.155912\n",
       "Sp. Atk       0.744662\n",
       "Sp. Def       0.854019\n",
       "Speed         0.357933\n",
       "Generation    0.014258\n",
       "Legendary     3.071072\n",
       "dtype: float64"
      ]
     },
     "execution_count": 4,
     "metadata": {},
     "output_type": "execute_result"
    }
   ],
   "source": [
    "df.skew()"
   ]
  },
  {
   "cell_type": "markdown",
   "id": "eac63ce7",
   "metadata": {},
   "source": [
    "# Observations(skewness)-\n",
    "**1.if the value of skewness is in the range (-0.5 ,0.5) then it is approximately symmetric\n",
    "\n",
    "**2.if (value<-1) OR (value>1) then highly skewed\n",
    "\n",
    "**3.if value lies in the limits (-1,-0.5) Or (0.5,1) then it is moderately skewed\n",
    "so:\n",
    "\n",
    "**'HP' is greater than 1 which means it is highly skewed\n",
    "\n",
    "**'Attack' is in the range (0.5,1) which concludes that it is moderately skewed\n",
    "\n",
    "**'Defense' is greater than 1 which means it is highly skewed\n",
    "\n",
    "**'Sp. Atk' lies in the range (0.5,1) which concludes that it is moderately skewed\n",
    "\n",
    "**'Sp. Def' lies in the range (0.5,1) which concludes that it is moderately skewed\n",
    "\n",
    "**'Speed' lies in the limits (-0.5 ,0.5) which means it is approximately symmetric\n"
   ]
  },
  {
   "cell_type": "code",
   "execution_count": null,
   "id": "26613b7c",
   "metadata": {},
   "outputs": [],
   "source": []
  }
 ],
 "metadata": {
  "kernelspec": {
   "display_name": "Python 3",
   "language": "python",
   "name": "python3"
  },
  "language_info": {
   "codemirror_mode": {
    "name": "ipython",
    "version": 3
   },
   "file_extension": ".py",
   "mimetype": "text/x-python",
   "name": "python",
   "nbconvert_exporter": "python",
   "pygments_lexer": "ipython3",
   "version": "3.8.8"
  }
 },
 "nbformat": 4,
 "nbformat_minor": 5
}
